{
 "cells": [
  {
   "cell_type": "markdown",
   "metadata": {
    "id": "pEnt2w72USFm"
   },
   "source": [
    "                                Question 1 \n",
    "\n",
    "It takes 21 seconds to wash your hands and help prevent the spread of COVID-19.\n",
    "\n",
    "Create a function that takes the number of times a person washes their hands per day N and the number of months they follow this routine nM and calculates the duration in minutes and seconds that person spends washing their hands.\n",
    "\n",
    "Examples\n",
    "\n",
    "(8, 7) ➞ \"588 minutes and 0 seconds\"\n",
    "\n",
    "\n",
    "(0, 0) ➞ \"0 minutes and 0 seconds\"\n",
    "\n",
    "\n",
    "(7, 9) ➞ \"661 minutes and 30 seconds\"\n",
    "\n",
    "Notes\n",
    "\n",
    "Consider a month has 30 days.\n",
    "\n",
    "Wash your hands."
   ]
  },
  {
   "cell_type": "code",
   "execution_count": 4,
   "metadata": {
    "id": "GP5_heLnUPIY"
   },
   "outputs": [
    {
     "name": "stdout",
     "output_type": "stream",
     "text": [
      "Lütfen giriniz : 8 7\n",
      "588 dakika 0 saniye\n"
     ]
    }
   ],
   "source": [
    "gün, ay = map(int,input(\"Lütfen giriniz : \").split())\n",
    "işlem1 = (21 * gün * ay * 30) / 60\n",
    "işlem2 = (işlem1 - int(işlem1)) * 60\n",
    "\n",
    "print(f\"{int(işlem1)} dakika {int(işlem2)} saniye\")\n",
    "\n"
   ]
  },
  {
   "cell_type": "raw",
   "metadata": {},
   "source": []
  },
  {
   "cell_type": "markdown",
   "metadata": {
    "id": "C4eFtS1CUWbf"
   },
   "source": [
    "                            Question 2\n",
    "                            \n",
    "Write a function that finds the largest even number in a list. Return -1 if not found. The use of built-in functions max() and sorted() are prohibited.\n",
    "\n",
    "Examples\n",
    "\n",
    "[3, 7, 2, 1, 7, 9, 10, 13] ➞ 10\n",
    "\n",
    "[1, 3, 5, 7] ➞ -1\n",
    "\n",
    "[0, 19, 18973623] ➞ 0\n",
    "\n",
    "Notes\n",
    "\n",
    "Consider using the modulo operator % or the bitwise and operator &."
   ]
  },
  {
   "cell_type": "code",
   "execution_count": 4,
   "metadata": {
    "id": "xEoWRC6cUiQs"
   },
   "outputs": [
    {
     "name": "stdout",
     "output_type": "stream",
     "text": [
      "14\n"
     ]
    }
   ],
   "source": [
    "m = [3, 7,14, 2, 1, 7, 9, 10, 13]\n",
    "\n",
    "max_even = -1\n",
    "\n",
    "for i in m:\n",
    "    if i % 2 == 0 and i > max_even:\n",
    "        max_even = i\n",
    "else:\n",
    "    print(max_even)\n",
    "        "
   ]
  },
  {
   "cell_type": "markdown",
   "metadata": {
    "id": "0jbysvcTUizZ"
   },
   "source": [
    "                              Question 3\n",
    "\n",
    "Create a function that determines whether a number is Oddish or Evenish. A number is Oddish if the sum of all of its digits is odd, and a number is Evenish if the sum of all of its digits is even. If a number is Oddish, return \"Oddish\". Otherwise, return \"Evenish\".\n",
    "\n",
    "\n",
    "For example, (121) should return \"Evenish\", since 1 + 2 + 1 = 4. (41) should return \"Oddish\", since 4 + 1 = 5.\n",
    "\n",
    "Examples\n",
    "\n",
    "(43) ➞ \"Oddish\"\n",
    "\n",
    "4 + 3 = 7\n",
    "\n",
    "7 % 2 = 1\n",
    "\n",
    "\n",
    "(373) ➞ \"Oddish\"\n",
    "\n",
    "3 + 7 + 3 = 13\n",
    "\n",
    "13 % 2 = 1\n",
    "\n",
    "(4433) ➞ \"Evenish\"\n",
    "\n",
    "4 + 4 + 3 + 3 = 14\n",
    "\n",
    "14 % 2 = 0"
   ]
  },
  {
   "cell_type": "code",
   "execution_count": 14,
   "metadata": {
    "id": "98vQKGiMUroG"
   },
   "outputs": [
    {
     "name": "stdout",
     "output_type": "stream",
     "text": [
      "Lütfen sayınızı giriniz : 111\n",
      "3\n",
      "Oddish\n"
     ]
    }
   ],
   "source": [
    "m = input(\"Lütfen sayınızı giriniz : \")\n",
    "toplam = 0\n",
    "for i in m: \n",
    "    toplam += int(i)\n",
    "print(toplam)\n",
    "if toplam % 2 == 0:\n",
    "    print(\"evenish\")\n",
    "else:\n",
    "    print(\"Oddish\")"
   ]
  },
  {
   "cell_type": "markdown",
   "metadata": {
    "id": "tQ9nkeSxUsEW"
   },
   "source": [
    "                               Question 4\n",
    "\n",
    "Program to print pyramid a using numbers.(User enter the numbers of rows)\n"
   ]
  },
  {
   "cell_type": "code",
   "execution_count": null,
   "metadata": {
    "id": "fV5a7fk5UwxP"
   },
   "outputs": [],
   "source": [
    "# 1\n",
    "# 2 2\n",
    "# 3 3 3\n",
    "# 4 4 4 4\n",
    "# 5 5 5 5 5"
   ]
  },
  {
   "cell_type": "code",
   "execution_count": 42,
   "metadata": {
    "id": "yABKi6xpUwC-"
   },
   "outputs": [
    {
     "name": "stdout",
     "output_type": "stream",
     "text": [
      "Lütfen giriniz : 5\n",
      "1 \n",
      "2 2 \n",
      "3 3 3 \n",
      "4 4 4 4 \n",
      "5 5 5 5 5 \n"
     ]
    }
   ],
   "source": [
    "m = int(input(\"Lütfen giriniz : \"))\n",
    "\n",
    "for i in range(1,m + 1):\n",
    "    print(i * (str(i) + \" \"))\n",
    "    \n"
   ]
  },
  {
   "cell_type": "markdown",
   "metadata": {
    "id": "58NTScyuUzRN"
   },
   "source": [
    "                              Question 5\n",
    "                              \n",
    "Fruit salads are served best when the fruits are sliced and diced into small chunks!\n",
    "\n",
    "For this challenge, slice each fruit in half and sort the chunks alphabetically. This recipe tastes best when the chunks are joined together to make a string.\n",
    "\n",
    "Worked Example\n",
    "\n",
    "[\"apple\", \"pear\", \"grapes\"] ➞ \"apargrapepesple\"\n",
    "\n",
    "Chunks: [\"ap\", \"ple\", \"pe\", \"ar\", \"gra\", \"pes\"]\n",
    "\n",
    "Sorted chunks: [\"ap\", \"ar\", \"gra\", \"pe\", \"pes\", \"ple\"]\n",
    "\n",
    "Final string: \"apargrapepesple\"\n",
    "\n",
    "Examples\n",
    "\n",
    "[\"apple\", \"pear\", \"grapes\"] ➞ \"apargrapepesple\"\n",
    "\n",
    "[\"raspberries\", \"mango\"] ➞ \"erriesmangoraspb\"\n",
    "\n",
    "[\"banana\"] ➞ \"anaban\"\n",
    "\n",
    "Notes\n",
    "\n",
    "If a fruit has an odd number of letters, make the right side larger than the left.\n",
    "\n",
    "For example: \"apple\" will be sliced into \"ap\" and \"ple\".\n",
    "\n",
    "All fruits will be given in lowercase."
   ]
  },
  {
   "cell_type": "code",
   "execution_count": 43,
   "metadata": {
    "id": "ojlvVUHOU5iC"
   },
   "outputs": [
    {
     "name": "stdout",
     "output_type": "stream",
     "text": [
      "afatsum\n"
     ]
    }
   ],
   "source": [
    "x = [\"mustafa\"][0][::-1]\n",
    "print(x)"
   ]
  },
  {
   "cell_type": "code",
   "execution_count": 85,
   "metadata": {},
   "outputs": [
    {
     "name": "stdout",
     "output_type": "stream",
     "text": [
      "['raspb', 'erries', 'ma', 'ngo']\n",
      "erriesmangoraspb\n"
     ]
    }
   ],
   "source": [
    "a = [\"raspberries\", \"mango\"] \n",
    "b = []\n",
    "for i in a:\n",
    "    if len(a) > 1:\n",
    "        j = i[:int(len(i) / 2)]\n",
    "        b.append(j)\n",
    "        k = i[int(len(i) / 2):]\n",
    "        b.append(k)\n",
    "    else:\n",
    "        print(a[0][::-1])\n",
    "else:\n",
    "    print(b)\n",
    "c = []\n",
    "for i in b:\n",
    "    c.append(i)\n",
    "c.sort()\n",
    "\n",
    "metin = \"\"\n",
    "for i in c:\n",
    "    metin += i\n",
    "print(metin)\n",
    "\n",
    "    "
   ]
  },
  {
   "cell_type": "markdown",
   "metadata": {
    "id": "XrcfMShuU5yR"
   },
   "source": [
    "                              Question 6\n",
    "Given a positive integer N, The task is to write a Python program to check if the number is prime or not.\n",
    "\n",
    "Definition:\n",
    "\n",
    "A prime number is a natural number greater than 1 that has no positive divisors other than 1 and itself. \n",
    "\n",
    "The first few prime numbers are {2, 3, 5, 7, 11, ….}."
   ]
  },
  {
   "cell_type": "code",
   "execution_count": 107,
   "metadata": {
    "id": "qsQVVZujVCVa"
   },
   "outputs": [
    {
     "name": "stdout",
     "output_type": "stream",
     "text": [
      "Please enter a number : 17\n",
      "True\n"
     ]
    }
   ],
   "source": [
    "number = int(input(\"Please enter a number : \"))\n",
    "\n",
    "for i in range(2,number) :\n",
    "    if number % i == 0 :\n",
    "        print(False)\n",
    "        break\n",
    "else :\n",
    "    print(True)"
   ]
  },
  {
   "cell_type": "markdown",
   "metadata": {
    "id": "TZsv9lgRVFEU"
   },
   "source": [
    "                                  Question 7\n",
    "Create a function that takes a word and extends all vowels by a number num.\n",
    "\n",
    "Examples\n",
    "\n",
    "\n",
    "\"Hello\", 5 ➞ \"Heeeeeelloooooo\"\n",
    "\n",
    "\"Edabit\", 3 ➞ \"EEEEdaaaabiiiit\"\n",
    "\n",
    "\"Extend\", 0 ➞ \"Extend\""
   ]
  },
  {
   "cell_type": "code",
   "execution_count": 104,
   "metadata": {
    "id": "boeD9OaLVHd7"
   },
   "outputs": [
    {
     "name": "stdout",
     "output_type": "stream",
     "text": [
      "Lütfen kelime giriniz : edabit\n",
      "Lütfen genişletmek istenilen miktar : 1\n",
      "edabit"
     ]
    }
   ],
   "source": [
    "girdi = input(\"Lütfen kelime giriniz : \")\n",
    "gen = int(input(\"Lütfen genişletmek istenilen miktar : \"))\n",
    "sesli = \"euıüiaöo\"\n",
    "for i in girdi:\n",
    "    if i in sesli:\n",
    "        i = i * gen\n",
    "    elif i in sesli.upper():\n",
    "        i = i * gen\n",
    "    print(i,end = \"\")"
   ]
  },
  {
   "cell_type": "code",
   "execution_count": null,
   "metadata": {},
   "outputs": [],
   "source": []
  }
 ],
 "metadata": {
  "colab": {
   "name": "ws-4.ipynb",
   "provenance": []
  },
  "kernelspec": {
   "display_name": "Python 3",
   "language": "python",
   "name": "python3"
  },
  "language_info": {
   "codemirror_mode": {
    "name": "ipython",
    "version": 3
   },
   "file_extension": ".py",
   "mimetype": "text/x-python",
   "name": "python",
   "nbconvert_exporter": "python",
   "pygments_lexer": "ipython3",
   "version": "3.8.8"
  }
 },
 "nbformat": 4,
 "nbformat_minor": 1
}

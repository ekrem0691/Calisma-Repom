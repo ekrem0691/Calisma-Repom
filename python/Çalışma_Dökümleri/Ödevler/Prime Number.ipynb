{
 "cells": [
  {
   "cell_type": "markdown",
   "id": "bc9c3af5",
   "metadata": {},
   "source": [
    "Task : Write a program that takes a number from the user and prints the result to check if it is a prime number.\n",
    "input →  19 ⇉ output : 19 is a prime number\n",
    "input →  10 ⇉ output : 10 is not a prime number\n"
   ]
  },
  {
   "cell_type": "code",
   "execution_count": 19,
   "id": "3b39029f",
   "metadata": {},
   "outputs": [
    {
     "name": "stdout",
     "output_type": "stream",
     "text": [
      "Lütfen sayı giriniz : 19\n",
      "19 is a prime number\n"
     ]
    }
   ],
   "source": [
    "def asal(sayı):\n",
    "    if sayı > 2 :\n",
    "        for i in range(2, sayı):\n",
    "            if sayı % i != 0:\n",
    "                print(f\"{sayı} is a prime number\")\n",
    "                break\n",
    "            else:\n",
    "                print(f\"{sayı} is not a prime number\")\n",
    "                break\n",
    "            \n",
    "    return\n",
    "\n",
    "n = int(input(\"Lütfen sayı giriniz : \"))\n",
    "\n",
    "asal(n)\n",
    "        "
   ]
  },
  {
   "cell_type": "code",
   "execution_count": null,
   "id": "875e00b6",
   "metadata": {},
   "outputs": [],
   "source": []
  }
 ],
 "metadata": {
  "kernelspec": {
   "display_name": "Python 3",
   "language": "python",
   "name": "python3"
  },
  "language_info": {
   "codemirror_mode": {
    "name": "ipython",
    "version": 3
   },
   "file_extension": ".py",
   "mimetype": "text/x-python",
   "name": "python",
   "nbconvert_exporter": "python",
   "pygments_lexer": "ipython3",
   "version": "3.8.8"
  }
 },
 "nbformat": 4,
 "nbformat_minor": 5
}

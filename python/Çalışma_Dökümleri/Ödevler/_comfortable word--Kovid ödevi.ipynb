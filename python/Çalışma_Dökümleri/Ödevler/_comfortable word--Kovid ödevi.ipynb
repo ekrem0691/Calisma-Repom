{
 "cells": [
  {
   "cell_type": "code",
   "execution_count": 4,
   "id": "2ac8cb28",
   "metadata": {},
   "outputs": [
    {
     "name": "stdout",
     "output_type": "stream",
     "text": [
      "Lütfen isim giriniz:wad\n",
      "False\n"
     ]
    }
   ],
   "source": [
    "word = set(input(\"Lütfen isim giriniz:\"))\n",
    "l_hand = {\"q\", \"w\", \"e\", \"r\", \"t\", \"a\", \"s\", \"d\", \"f\", \"g\", \"z\", \"x\", \"c\", \"v\", \"b\"}\n",
    "r_hand = {\"y\", \"u\", \"i\", \"o\", \"p\", \"h\", \"j\", \"k\", \"l\", \"n\", \"m\", \"ç\", \"ö\", \"ğ\", \"ü\", \"ş\", \"ı\"}\n",
    "\n",
    "durum_1 = word.issubset(l_hand)\n",
    "durum_2 = word.issubset(r_hand)\n",
    "\n",
    "if durum_1 == True:\n",
    "    print(False)\n",
    "elif durum_2 == True:\n",
    "    print(False)\n",
    "else:\n",
    "    print(True)\n",
    "    "
   ]
  },
  {
   "cell_type": "code",
   "execution_count": 10,
   "id": "6cfd5624",
   "metadata": {},
   "outputs": [
    {
     "name": "stdout",
     "output_type": "stream",
     "text": [
      "lütfen bir kelime giriniz:asdasda\n",
      "girilen kelime asdasda için comfortable words:\n",
      "False\n"
     ]
    }
   ],
   "source": [
    "left_fingers = set(\"QAZWSXEDCRFVTGBYqazwsxedcrfvtgby\")\n",
    "right_fingers = set(\"UHNIJMOKÖPLÇĞŞÜİuhnıjmoköplçşğiü\")\n",
    "left = left_fingers\n",
    "right = right_fingers\n",
    "kelime = str(input(\"lütfen bir kelime giriniz:\"))\n",
    "new_kelime = set(kelime)\n",
    "print(\"girilen kelime {} için comfortable words:\".format(kelime))\n",
    "print(bool(left.intersection(new_kelime)) and bool(right.intersection(new_kelime)))"
   ]
  },
  {
   "cell_type": "markdown",
   "id": "de6edefa",
   "metadata": {},
   "source": [
    "Task : Estimating the risk of death from coronavirus. Write a program that;\n",
    "\n",
    "Takes \"Yes\" or \"No\" from the user as an answer to the following questions :\n",
    "\n",
    "Are you a cigarette addict older than 75 years old? Variable → age\n",
    "\n",
    "Do you have a severe chronic disease? Variable → chronic\n",
    "\n",
    "Is your immune system too weak? Variable → immune\n",
    "\n",
    "Set a logical algorithm using boolean logic operators (and/or) and use if-statements with the given variables in order to print out us a message : \"You are in risky group\"(if True ) or \"You are not in risky group\" (if False)."
   ]
  },
  {
   "cell_type": "markdown",
   "id": "ec3d0a83",
   "metadata": {},
   "source": [
    "Koronavirüsten ölüm riskini tahmin etmek. Bir program yazın;\n",
    "Aşağıdaki sorulara kullanıcıdan \"Evet\" veya \"Hayır\" cevabını alır:\n",
    "\n",
    "75 yaşından büyük bir sigara bağımlısı mısınız? Değişken → yaş\n",
    "Ağır bir kronik hastalığınız var mı? Değişken → kronik\n",
    "\n",
    "Bağışıklık sisteminiz çok mu zayıf? Değişken → bağışıklık\n",
    "Boolean mantık operatörlerini (ve/veya) kullanarak bir mantıksal algoritma kurun ve bize bir mesaj yazdırmak için verilen değişkenlerle if-ifadelerini kullanın: \"Riskli gruptasınız\"(eğer Doğruysa) veya \"Riskli grupta değilsiniz\" \" (Yanlış ise)."
   ]
  },
  {
   "cell_type": "code",
   "execution_count": 7,
   "id": "f0557a99",
   "metadata": {},
   "outputs": [
    {
     "name": "stdout",
     "output_type": "stream",
     "text": [
      "Lütfen yaşınızı giriniz :74\n",
      "Ağır bir kronik rahatsızlığınız var mı ?  (Y/N) :n\n",
      "Bağışıklık sisteminiz zayıf mı? (Y/N) : n\n",
      "Riskli grupta değilsiniz\n"
     ]
    }
   ],
   "source": [
    "age = int(input(\"Lütfen yaşınızı giriniz :\"))\n",
    "chronic = input(\"Ağır bir kronik rahatsızlığınız var mı ?  (Y/N) :\")\n",
    "immune = input(\"Bağışıklık sisteminiz zayıf mı? (Y/N) : \")\n",
    "\n",
    "if age > 75 or chronic.title() == \"Y\" or immune.title() == \"Y\":\n",
    "    print(\"Riskli gruptasınız\")\n",
    "else:\n",
    "    print(\"Riskli grupta değilsiniz\")"
   ]
  },
  {
   "cell_type": "code",
   "execution_count": null,
   "id": "531cc32c",
   "metadata": {},
   "outputs": [],
   "source": []
  }
 ],
 "metadata": {
  "kernelspec": {
   "display_name": "Python 3",
   "language": "python",
   "name": "python3"
  },
  "language_info": {
   "codemirror_mode": {
    "name": "ipython",
    "version": 3
   },
   "file_extension": ".py",
   "mimetype": "text/x-python",
   "name": "python",
   "nbconvert_exporter": "python",
   "pygments_lexer": "ipython3",
   "version": "3.8.8"
  }
 },
 "nbformat": 4,
 "nbformat_minor": 5
}

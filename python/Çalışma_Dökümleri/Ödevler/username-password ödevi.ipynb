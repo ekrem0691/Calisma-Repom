{
 "cells": [
  {
   "cell_type": "code",
   "execution_count": null,
   "id": "35c21468",
   "metadata": {},
   "outputs": [],
   "source": [
    "isim = \"Mustafa\"\n",
    "şifre = \"1183\"\n",
    "\n",
    "girdi = input(\"Lütfen isminizi giriniz : \")\n",
    "\n",
    "if girdi.title() == isim:\n",
    "    print(f\"Merhaba {isim}, şifreniz : {şifre}\")\n",
    "    \n",
    "else:\n",
    "    print(f\"Merhaba {girdi}, sonra görüşürüz\")"
   ]
  }
 ],
 "metadata": {
  "kernelspec": {
   "display_name": "Python 3",
   "language": "python",
   "name": "python3"
  },
  "language_info": {
   "codemirror_mode": {
    "name": "ipython",
    "version": 3
   },
   "file_extension": ".py",
   "mimetype": "text/x-python",
   "name": "python",
   "nbconvert_exporter": "python",
   "pygments_lexer": "ipython3",
   "version": "3.8.8"
  }
 },
 "nbformat": 4,
 "nbformat_minor": 5
}

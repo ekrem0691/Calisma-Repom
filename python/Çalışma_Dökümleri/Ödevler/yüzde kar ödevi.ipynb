{
 "cells": [
  {
   "cell_type": "code",
   "execution_count": 11,
   "id": "3717b7aa",
   "metadata": {},
   "outputs": [
    {
     "name": "stdout",
     "output_type": "stream",
     "text": [
      "Elimde ki param:  1000 $\n",
      "günlük kar: 0.07\n",
      "7. günün sonunda elimde ki param: 1605.78147647843 $\n"
     ]
    }
   ],
   "source": [
    "benim_param = 1000\n",
    "print(\"Elimde ki param: \", benim_param, \"$\")\n",
    "günlük_kar = 0.07\n",
    "print(\"günlük kar:\", günlük_kar)\n",
    "pazartesi = (benim_param * günlük_kar) + benim_param\n",
    "salı = (pazartesi * günlük_kar) + pazartesi\n",
    "çarşamba = (salı * günlük_kar) + salı\n",
    "perşembe = (çarşamba * günlük_kar) + çarşamba\n",
    "cuma = (perşembe * günlük_kar) + perşembe\n",
    "cumartesi = (cuma * günlük_kar) + cuma\n",
    "pazar = (cumartesi * günlük_kar) + cumartesi\n",
    "print(\"7. günün sonunda elimde ki param:\", pazar, \"$\")"
   ]
  },
  {
   "cell_type": "code",
   "execution_count": null,
   "id": "de17ce1d",
   "metadata": {},
   "outputs": [],
   "source": []
  }
 ],
 "metadata": {
  "kernelspec": {
   "display_name": "Python 3",
   "language": "python",
   "name": "python3"
  },
  "language_info": {
   "codemirror_mode": {
    "name": "ipython",
    "version": 3
   },
   "file_extension": ".py",
   "mimetype": "text/x-python",
   "name": "python",
   "nbconvert_exporter": "python",
   "pygments_lexer": "ipython3",
   "version": "3.8.8"
  }
 },
 "nbformat": 4,
 "nbformat_minor": 5
}

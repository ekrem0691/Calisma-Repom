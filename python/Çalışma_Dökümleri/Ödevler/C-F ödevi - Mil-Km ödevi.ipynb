{
 "cells": [
  {
   "cell_type": "code",
   "execution_count": 3,
   "id": "bd131531",
   "metadata": {},
   "outputs": [
    {
     "name": "stdout",
     "output_type": "stream",
     "text": [
      "Lütfen °C değerini giriniz: 50.1\n",
      "fahrenheit değeri : 122.18 °F olur.\n"
     ]
    }
   ],
   "source": [
    "c = float(input(\"Lütfen °C değerini giriniz: \"))\n",
    "f = c * 1.8 + 32\n",
    "print(\"fahrenheit değeri : {} °F olur.\".format(f))"
   ]
  },
  {
   "cell_type": "code",
   "execution_count": 13,
   "id": "deec3efb",
   "metadata": {},
   "outputs": [
    {
     "name": "stdout",
     "output_type": "stream",
     "text": [
      "Lütfen Km. değerini giriniz: 50\n",
      "seçtiğiniz 50.0 km değerinin Mil karşılığı; 31.07 mil'dir\n"
     ]
    }
   ],
   "source": [
    "km = float(input(\"Lütfen Km. değerini giriniz: \"))\n",
    "mi = km / 1.609344\n",
    "print(\"seçtiğiniz %.1f km değerinin Mil karşılığı; %.2f mil'dir\"%(km, mi))"
   ]
  },
  {
   "cell_type": "code",
   "execution_count": null,
   "id": "e6ec89c3",
   "metadata": {},
   "outputs": [],
   "source": []
  }
 ],
 "metadata": {
  "kernelspec": {
   "display_name": "Python 3",
   "language": "python",
   "name": "python3"
  },
  "language_info": {
   "codemirror_mode": {
    "name": "ipython",
    "version": 3
   },
   "file_extension": ".py",
   "mimetype": "text/x-python",
   "name": "python",
   "nbconvert_exporter": "python",
   "pygments_lexer": "ipython3",
   "version": "3.8.8"
  }
 },
 "nbformat": 4,
 "nbformat_minor": 5
}

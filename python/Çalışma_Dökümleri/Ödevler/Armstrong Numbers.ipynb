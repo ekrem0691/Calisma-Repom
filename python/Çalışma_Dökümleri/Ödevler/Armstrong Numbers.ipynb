{
 "cells": [
  {
   "cell_type": "markdown",
   "id": "170a7b01",
   "metadata": {},
   "source": [
    "Task:\n",
    "\n",
    "Find out if a given number is an \"Armstrong Number\".\n",
    "\n",
    "An n-digit number that is the sum of the nth powers of its digits is called an n-Armstrong number. Examples :\n",
    "371 = 33 + 73 + 13;\n",
    "9474 = 94 + 44 + 74 + 44;\n",
    "93084 = 95 + 35 + 05 + 85 + 45.\n",
    "\n",
    "Write a Python program that;\n",
    "takes a positive integer number from the user,\n",
    "checks the entered number if it is Armstrong,\n",
    "consider the negative, float and any entries other than numeric values then display a warning message to the user."
   ]
  },
  {
   "cell_type": "code",
   "execution_count": 78,
   "id": "7470a486",
   "metadata": {},
   "outputs": [
    {
     "name": "stdout",
     "output_type": "stream",
     "text": [
      "Lütfen sayı giriniz : 153,87\n",
      " It is an invalid entry. Don't use non-numeric, float, or negative values!\n",
      "Lütfen sayı giriniz : one\n",
      " It is an invalid entry. Don't use non-numeric, float, or negative values!\n",
      "Lütfen sayı giriniz : -153\n",
      " It is an invalid entry. Don't use non-numeric, float, or negative values!\n",
      "Lütfen sayı giriniz : 121\n",
      "121 is not an Armstrong number\n"
     ]
    }
   ],
   "source": [
    "while True:\n",
    "    arms_num = input(\"Lütfen sayı giriniz : \")\n",
    "    if arms_num.isalnum() != True:\n",
    "        print(\" It is an invalid entry. Don't use non-numeric, float, or negative values!\")\n",
    "    elif arms_num.isalpha():\n",
    "        print(\" It is an invalid entry. Don't use non-numeric, float, or negative values!\")   \n",
    "    elif int(arms_num) < 0: \n",
    "        print(\" It is an invalid entry. Don't use non-numeric, float, or negative values!\")\n",
    "    else:\n",
    "        break\n",
    "toplam = 0\n",
    "for i in arms_num:\n",
    "    toplam += int(i) ** len(arms_num)\n",
    "\n",
    "if toplam == int(arms_num):\n",
    "     print(f\"{arms_num} is an Armstrong number\")\n",
    "else:\n",
    "    print(f\"{arms_num} is not an Armstrong number\")"
   ]
  }
 ],
 "metadata": {
  "kernelspec": {
   "display_name": "Python 3",
   "language": "python",
   "name": "python3"
  }
 },
 "nbformat": 4,
 "nbformat_minor": 5
}

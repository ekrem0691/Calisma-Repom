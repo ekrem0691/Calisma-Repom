{
 "cells": [
  {
   "cell_type": "code",
   "execution_count": 2,
   "id": "d99f4040",
   "metadata": {},
   "outputs": [
    {
     "name": "stdout",
     "output_type": "stream",
     "text": [
      "[]\n"
     ]
    }
   ],
   "source": [
    "print(({0} and False) or [])"
   ]
  },
  {
   "cell_type": "code",
   "execution_count": 4,
   "id": "b7394299",
   "metadata": {},
   "outputs": [
    {
     "name": "stdout",
     "output_type": "stream",
     "text": [
      "None\n"
     ]
    }
   ],
   "source": [
    "print(0 or None)"
   ]
  },
  {
   "cell_type": "markdown",
   "id": "f1ba709f",
   "metadata": {},
   "source": [
    "\n"
   ]
  },
  {
   "cell_type": "code",
   "execution_count": 7,
   "id": "088c7317",
   "metadata": {},
   "outputs": [
    {
     "data": {
      "text/plain": [
       "True"
      ]
     },
     "execution_count": 7,
     "metadata": {},
     "output_type": "execute_result"
    }
   ],
   "source": [
    "kadayıf = True\n",
    "\n",
    "# iç\n",
    "fıstık = True\n",
    "fındık = True\n",
    "ceviz = True\n",
    "\n",
    "# şerbet\n",
    "su = True\n",
    "şeker = True \n",
    "\n",
    "yumurta = True \n",
    "\n",
    "\n",
    "#içecek\n",
    "çay = True\n",
    "meşrubat = True\n",
    "limonata = True\n",
    "\n",
    "\n",
    "\n",
    "yedim = kadayıf and (fındık or fıstık or ceviz) and (su and şeker) and yumurta and (çay or meşrubat or limonata)\n",
    "yedim\n",
    "\n"
   ]
  },
  {
   "cell_type": "code",
   "execution_count": 8,
   "id": "36ed8882",
   "metadata": {},
   "outputs": [
    {
     "data": {
      "text/plain": [
       "'s'"
      ]
     },
     "execution_count": 8,
     "metadata": {},
     "output_type": "execute_result"
    }
   ],
   "source": [
    "\"clarusway\"[5]\n"
   ]
  },
  {
   "cell_type": "code",
   "execution_count": 9,
   "id": "80b7eed6",
   "metadata": {},
   "outputs": [
    {
     "data": {
      "text/plain": [
       "'s'"
      ]
     },
     "execution_count": 9,
     "metadata": {},
     "output_type": "execute_result"
    }
   ],
   "source": [
    "okul = \"clarusway\"\n",
    "okul[5]"
   ]
  },
  {
   "cell_type": "code",
   "execution_count": 11,
   "id": "33c797e8",
   "metadata": {},
   "outputs": [
    {
     "data": {
      "text/plain": [
       "'ar'"
      ]
     },
     "execution_count": 11,
     "metadata": {},
     "output_type": "execute_result"
    }
   ],
   "source": [
    "okul[2:4]  # end indexi dahil değil."
   ]
  },
  {
   "cell_type": "code",
   "execution_count": 16,
   "id": "f366cdcd",
   "metadata": {},
   "outputs": [
    {
     "data": {
      "text/plain": [
       "'hoe'"
      ]
     },
     "execution_count": 16,
     "metadata": {},
     "output_type": "execute_result"
    }
   ],
   "source": [
    "kuş = \"Phoenix\"\n",
    "kuş [1:4]"
   ]
  },
  {
   "cell_type": "code",
   "execution_count": 15,
   "id": "f858fb02",
   "metadata": {},
   "outputs": [
    {
     "data": {
      "text/plain": [
       "'hoe'"
      ]
     },
     "execution_count": 15,
     "metadata": {},
     "output_type": "execute_result"
    }
   ],
   "source": [
    "kuş [-6:-3]"
   ]
  },
  {
   "cell_type": "code",
   "execution_count": 17,
   "id": "1509e11d",
   "metadata": {},
   "outputs": [
    {
     "data": {
      "text/plain": [
       "'hoe'"
      ]
     },
     "execution_count": 17,
     "metadata": {},
     "output_type": "execute_result"
    }
   ],
   "source": [
    "kuş[1:-3]"
   ]
  },
  {
   "cell_type": "code",
   "execution_count": 18,
   "id": "94e52b96",
   "metadata": {},
   "outputs": [
    {
     "data": {
      "text/plain": [
       "'hoe'"
      ]
     },
     "execution_count": 18,
     "metadata": {},
     "output_type": "execute_result"
    }
   ],
   "source": [
    "kuş[-6:4]"
   ]
  },
  {
   "cell_type": "code",
   "execution_count": 19,
   "id": "82bd5e9b",
   "metadata": {},
   "outputs": [
    {
     "data": {
      "text/plain": [
       "'rusw'"
      ]
     },
     "execution_count": 19,
     "metadata": {},
     "output_type": "execute_result"
    }
   ],
   "source": [
    "isim = \"Clarusway okulu\"\n",
    "isim[3:7]"
   ]
  },
  {
   "cell_type": "code",
   "execution_count": 20,
   "id": "fd8e30dc",
   "metadata": {},
   "outputs": [
    {
     "data": {
      "text/plain": [
       "'Crw u'"
      ]
     },
     "execution_count": 20,
     "metadata": {},
     "output_type": "execute_result"
    }
   ],
   "source": [
    "isim[::3]"
   ]
  },
  {
   "cell_type": "code",
   "execution_count": 21,
   "id": "b5c3a88b",
   "metadata": {},
   "outputs": [
    {
     "data": {
      "text/plain": [
       "'Clarusway okulu'"
      ]
     },
     "execution_count": 21,
     "metadata": {},
     "output_type": "execute_result"
    }
   ],
   "source": [
    "isim[::]"
   ]
  },
  {
   "cell_type": "code",
   "execution_count": 22,
   "id": "cfbefb7d",
   "metadata": {},
   "outputs": [
    {
     "data": {
      "text/plain": [
       "'uluko yawsuralC'"
      ]
     },
     "execution_count": 22,
     "metadata": {},
     "output_type": "execute_result"
    }
   ],
   "source": [
    "isim[::-1]"
   ]
  },
  {
   "cell_type": "code",
   "execution_count": 24,
   "id": "f1a8ae0a",
   "metadata": {},
   "outputs": [
    {
     "data": {
      "text/plain": [
       "'Clarusway okulu'"
      ]
     },
     "execution_count": 24,
     "metadata": {},
     "output_type": "execute_result"
    }
   ],
   "source": [
    "isim[0::]"
   ]
  },
  {
   "cell_type": "code",
   "execution_count": 25,
   "id": "a4e3f34e",
   "metadata": {},
   "outputs": [
    {
     "data": {
      "text/plain": [
       "'rusway '"
      ]
     },
     "execution_count": 25,
     "metadata": {},
     "output_type": "execute_result"
    }
   ],
   "source": [
    "isim[-12:10]"
   ]
  },
  {
   "cell_type": "code",
   "execution_count": 26,
   "id": "f38f79ea",
   "metadata": {},
   "outputs": [
    {
     "data": {
      "text/plain": [
       "''"
      ]
     },
     "execution_count": 26,
     "metadata": {},
     "output_type": "execute_result"
    }
   ],
   "source": [
    "isim[-12:-5:-1]  # soldan sağa doğru gitmesi gerekirken tersine yapılan işlemlerde boş döndürür.\n"
   ]
  },
  {
   "cell_type": "code",
   "execution_count": 27,
   "id": "3b50dd9d",
   "metadata": {},
   "outputs": [
    {
     "data": {
      "text/plain": [
       "'uko yaws'"
      ]
     },
     "execution_count": 27,
     "metadata": {},
     "output_type": "execute_result"
    }
   ],
   "source": [
    "isim[-3:-11:-1]"
   ]
  },
  {
   "cell_type": "code",
   "execution_count": 28,
   "id": "99a4ae72",
   "metadata": {},
   "outputs": [
    {
     "data": {
      "text/plain": [
       "''"
      ]
     },
     "execution_count": 28,
     "metadata": {},
     "output_type": "execute_result"
    }
   ],
   "source": [
    "isim[12:6]"
   ]
  },
  {
   "cell_type": "code",
   "execution_count": null,
   "id": "d9befa4f",
   "metadata": {},
   "outputs": [],
   "source": []
  }
 ],
 "metadata": {
  "kernelspec": {
   "display_name": "Python 3",
   "language": "python",
   "name": "python3"
  },
  "language_info": {
   "codemirror_mode": {
    "name": "ipython",
    "version": 3
   },
   "file_extension": ".py",
   "mimetype": "text/x-python",
   "name": "python",
   "nbconvert_exporter": "python",
   "pygments_lexer": "ipython3",
   "version": "3.8.8"
  }
 },
 "nbformat": 4,
 "nbformat_minor": 5
}

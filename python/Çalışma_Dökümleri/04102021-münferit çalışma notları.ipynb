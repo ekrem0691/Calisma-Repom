{
 "cells": [
  {
   "cell_type": "code",
   "execution_count": 17,
   "id": "fb65e9bf",
   "metadata": {},
   "outputs": [
    {
     "name": "stdout",
     "output_type": "stream",
     "text": [
      "deneme: aasm\n"
     ]
    }
   ],
   "source": [
    "var = \"mustafa\"\n",
    "print(\"deneme:\", var[::-2])"
   ]
  },
  {
   "cell_type": "code",
   "execution_count": 29,
   "id": "be508fc6",
   "metadata": {},
   "outputs": [
    {
     "name": "stdout",
     "output_type": "stream",
     "text": [
      "AppleApple OrangeOrangeOrange\n"
     ]
    }
   ],
   "source": [
    "fruit1 = 'Apple'\n",
    "fruit2 = 'Orange'\n",
    "print(2 * fruit1, 3 * fruit2, sep=' ')"
   ]
  },
  {
   "cell_type": "code",
   "execution_count": 36,
   "id": "bbdfede9",
   "metadata": {},
   "outputs": [
    {
     "name": "stdout",
     "output_type": "stream",
     "text": [
      "seni çok seviyorum a\n"
     ]
    }
   ],
   "source": [
    "mustafa = \"seni çok seviyorum ama arada hataların oluyor yapacak bir şey yok \"\n",
    "print(\"%.20s\" % mustafa)"
   ]
  },
  {
   "cell_type": "code",
   "execution_count": 45,
   "id": "713af6ba",
   "metadata": {},
   "outputs": [
    {
     "name": "stdout",
     "output_type": "stream",
     "text": [
      "29 yaşına geldiğinde kendine telefon alabildi\n"
     ]
    }
   ],
   "source": [
    "mustafa = \"%(yaş)d yaşına geldiğinde kendine %(eşya)s alabildi\" % {'yaş': 29, 'eşya': \"telefon\"}\n",
    "print(mustafa)"
   ]
  },
  {
   "cell_type": "code",
   "execution_count": 1,
   "id": "38ca2544",
   "metadata": {},
   "outputs": [
    {
     "name": "stdout",
     "output_type": "stream",
     "text": [
      "mustafa altaş uzun boylu ,29 yaşında genç bir delikanlıydı\n"
     ]
    }
   ],
   "source": [
    "a = \"mustafa\"\n",
    "b = \"altaş\"\n",
    "c = 29\n",
    "print(\"{} {} uzun boylu ,{} yaşında genç bir delikanlıydı\".format(a, b, c))"
   ]
  },
  {
   "cell_type": "code",
   "execution_count": 11,
   "id": "2786e507",
   "metadata": {},
   "outputs": [
    {
     "name": "stdout",
     "output_type": "stream",
     "text": [
      "Good teachers know how to bring out the best in students.\n"
     ]
    }
   ],
   "source": [
    "print(\"{9} {7} {1} {10} {3} {2} {5} {8} {6} {0} {4}\".format('in','know','bring','to','students.','out','best','teachers','the','Good','how'))"
   ]
  },
  {
   "cell_type": "code",
   "execution_count": 10,
   "id": "a1f5de04",
   "metadata": {},
   "outputs": [
    {
     "name": "stdout",
     "output_type": "stream",
     "text": [
      "first second\n"
     ]
    }
   ],
   "source": [
    "print(\"{0} {1}\".format('first', 'second'))\n"
   ]
  },
  {
   "cell_type": "code",
   "execution_count": 16,
   "id": "3eb6b0b5",
   "metadata": {},
   "outputs": [
    {
     "name": "stdout",
     "output_type": "stream",
     "text": [
      "mustafa altaş 29 yaşında ve eski asker'dir.\n"
     ]
    }
   ],
   "source": [
    "isim = \"mustafa\"\n",
    "soyisim = \"altaş\"\n",
    "yaş = 29\n",
    "meslek = \"asker\"\n",
    "metin = f'{isim} {soyisim} {yaş} yaşında ve eski {meslek}\\'dir.'\n",
    "print(metin)\n"
   ]
  },
  {
   "cell_type": "code",
   "execution_count": 17,
   "id": "f3a3f12b",
   "metadata": {},
   "outputs": [
    {
     "name": "stdout",
     "output_type": "stream",
     "text": [
      "şahsın ismi Mustafa\n"
     ]
    }
   ],
   "source": [
    "isim = \"MUSTAFA\"\n",
    "çıktı = f\"şahsın ismi {isim.capitalize()}\"\n",
    "print(çıktı)"
   ]
  },
  {
   "cell_type": "code",
   "execution_count": 27,
   "id": "a8f715c1",
   "metadata": {},
   "outputs": [
    {
     "name": "stdout",
     "output_type": "stream",
     "text": [
      "Merhaba Mustafa.Bugün IT mühendisi olarak ilk iş günün.Branşın olarak Full stack Developer seçtiğin için memnunuz.\n"
     ]
    }
   ],
   "source": [
    "isim = \"Mustafa\"\n",
    "meslek = \"IT mühendisi\"\n",
    "branş = \"Full stack Developer\"\n",
    "mesaj = (\n",
    "   f\"Merhaba {isim}.\"\n",
    "   f\"Bugün {meslek} olarak ilk iş günün.\" \n",
    "   f\"Branşın olarak {branş} seçtiğin için memnunuz.\"\n",
    ")\n",
    "# Burada mesaj kısmında parantez kullanıldı; parantez kullanılmasaydı \"\\\" işareti kullanılır. örnek aşağıda vardır.\n",
    "print(mesaj)"
   ]
  },
  {
   "cell_type": "code",
   "execution_count": 31,
   "id": "6b4e0406",
   "metadata": {},
   "outputs": [
    {
     "name": "stdout",
     "output_type": "stream",
     "text": [
      "Merhaba Mustafa.Bugün IT mühendisi olarak ilk iş günün.Branşın olarak Full stack Developer seçtiğin için memnunuz.\n"
     ]
    }
   ],
   "source": [
    "isim = \"Mustafa\"\n",
    "meslek = \"IT mühendisi\"\n",
    "branş = \"Full stack Developer\"\n",
    "mesaj = f\"Merhaba {isim}.\" \\\n",
    "   f\"Bugün {meslek} olarak ilk iş günün.\" \\\n",
    "   f\"Branşın olarak {branş} seçtiğin için memnunuz.\" \n",
    "\n",
    "print(mesaj)"
   ]
  },
  {
   "cell_type": "code",
   "execution_count": null,
   "id": "8476c3b0",
   "metadata": {},
   "outputs": [],
   "source": []
  }
 ],
 "metadata": {
  "kernelspec": {
   "display_name": "Python 3",
   "language": "python",
   "name": "python3"
  },
  "language_info": {
   "codemirror_mode": {
    "name": "ipython",
    "version": 3
   },
   "file_extension": ".py",
   "mimetype": "text/x-python",
   "name": "python",
   "nbconvert_exporter": "python",
   "pygments_lexer": "ipython3",
   "version": "3.8.8"
  }
 },
 "nbformat": 4,
 "nbformat_minor": 5
}

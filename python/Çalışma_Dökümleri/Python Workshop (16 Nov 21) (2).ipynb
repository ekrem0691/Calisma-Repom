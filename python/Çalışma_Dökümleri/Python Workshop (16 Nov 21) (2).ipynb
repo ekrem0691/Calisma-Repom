{
 "cells": [
  {
   "cell_type": "markdown",
   "metadata": {},
   "source": [
    "SORU-1: Kullanıcının belirleyeceği \"n\" adet sayının tek tek girilmesini sağlayarak, bu sayıların toplamını bulan python kodunu yazınız.\n",
    "\n",
    "* For döngüsü kullanılmalıdır"
   ]
  },
  {
   "cell_type": "code",
   "execution_count": 4,
   "metadata": {},
   "outputs": [
    {
     "name": "stdout",
     "output_type": "stream",
     "text": [
      "Lütfen sayı adedini giriniz : 5\n",
      "Lütfen 1. sayıyı giriniz : 4\n",
      "Lütfen 2. sayıyı giriniz : 5\n",
      "Lütfen 3. sayıyı giriniz : 6\n",
      "Lütfen 4. sayıyı giriniz : 7\n",
      "Lütfen 5. sayıyı giriniz : 8\n",
      "30\n"
     ]
    }
   ],
   "source": [
    "n = int(input(\"Lütfen sayı adedini giriniz : \"))\n",
    "toplam = 0\n",
    "for i in range(1,n + 1):\n",
    "    sayı = int(input(f\"Lütfen {i}. sayıyı giriniz : \"))\n",
    "    toplam += sayı\n",
    "print(toplam)"
   ]
  },
  {
   "cell_type": "markdown",
   "metadata": {},
   "source": [
    "SORU-2: Kullanıcıdan alınan dört kenar uzunluğuna göre şeklin kare, dikdörtgen veya diğer dörtgenlerden biri olduğunu belirten python kodunu yazınız.\n",
    "\n",
    "* if-elif-else statement kullanılmalıdır"
   ]
  },
  {
   "cell_type": "code",
   "execution_count": 9,
   "metadata": {},
   "outputs": [
    {
     "name": "stdout",
     "output_type": "stream",
     "text": [
      "Lütfen aralarına boşluk bırakalarak dört kenar uzunluklarını giriniz : 6 8 5 4\n",
      "Şeklimiz çok kenar dörtgendir.\n"
     ]
    }
   ],
   "source": [
    "girdi = list(map(int, input(\"Lütfen aralarına boşluk bırakalarak dört kenar uzunluklarını giriniz : \").split()))\n",
    "\n",
    "for i in girdi:\n",
    "    if girdi.count(i) == len(girdi):\n",
    "        print(\"Şeklimiz karedir.\")\n",
    "        break\n",
    "    elif girdi.count(i) == len(girdi) - 2:\n",
    "        print(\"Şeklimiz dikdörtgendir.\")\n",
    "        break\n",
    "    else:\n",
    "        print(\"Şeklimiz çok kenar dörtgendir.\")\n",
    "        break"
   ]
  },
  {
   "cell_type": "markdown",
   "metadata": {},
   "source": [
    "SORU-3: Kullanıcının belirleyeceği satır sayısı (n) kadar, \"*\" işaretiyle piramit oluşturan python kodunu yazınız.\n",
    "\n",
    "* For döngüsü kullanılmalıdır\n"
   ]
  },
  {
   "cell_type": "code",
   "execution_count": 37,
   "metadata": {},
   "outputs": [
    {
     "name": "stdout",
     "output_type": "stream",
     "text": [
      "Lütfen sayı adedini giriniz : 5\n",
      "    **    \n",
      "   ****   \n",
      "  ******  \n",
      " ******** \n",
      "**********\n"
     ]
    }
   ],
   "source": [
    "n = int(input(\"Lütfen sayı adedini giriniz : \"))\n",
    "\n",
    "for i in range(1, n + 1):\n",
    "    print(f\"{'*' * i:>5}{'*' * i:<5}\")"
   ]
  },
  {
   "cell_type": "code",
   "execution_count": 40,
   "metadata": {},
   "outputs": [
    {
     "name": "stdout",
     "output_type": "stream",
     "text": [
      "Piramidin satır sayısını giriniz: 5\n",
      "    *\n",
      "   ***\n",
      "  *****\n",
      " *******\n",
      "*********\n"
     ]
    }
   ],
   "source": [
    "n= int(input(\"Piramidin satır sayısını giriniz: \"))\n",
    "\n",
    "\n",
    "for i in range(1, n+1):\n",
    "    print(' ' * (n-i) + '*' * (2*i-1))"
   ]
  },
  {
   "cell_type": "markdown",
   "metadata": {},
   "source": [
    "SORU-4: Kullanıcının yarıçap değerini girdiği bir dairenin, alan ve çevresini hesaplayan python kodunu yazınız.\n",
    "\n",
    "* Fonksiyon tanımlanmalıdır"
   ]
  },
  {
   "cell_type": "code",
   "execution_count": 41,
   "metadata": {},
   "outputs": [
    {
     "name": "stdout",
     "output_type": "stream",
     "text": [
      "Alan ---> 28.26\n",
      "Çevre ---> 18.84\n"
     ]
    }
   ],
   "source": [
    "def daire(r, pi = 3.14):\n",
    "    print(f\"Alan ---> {pi * r ** 2}\\nÇevre ---> {2 * pi * r}\")\n",
    "    return\n",
    "\n",
    "daire(3)\n",
    "    "
   ]
  },
  {
   "cell_type": "markdown",
   "metadata": {},
   "source": [
    "SORU-5: Kullanıcının girdiği 2 sayı arasındaki çift sayıların ortalamasını bulan python kodunu yazınız.\n",
    "\n",
    "* map() fonksiyonu kullanılmalı ve\n",
    "* Fonksiyon tanımlanmalıdır"
   ]
  },
  {
   "cell_type": "code",
   "execution_count": 55,
   "metadata": {},
   "outputs": [
    {
     "name": "stdout",
     "output_type": "stream",
     "text": [
      "Lütfen iki aralık giriniz : 1 9\n",
      "5.0\n"
     ]
    }
   ],
   "source": [
    "n = list(map(int, input(\"Lütfen iki aralık giriniz : \").split()))\n",
    "toplam = 0\n",
    "sayac = 0\n",
    "for i in range(n[0], n[1] + 1):\n",
    "    if i % 2 == 0:\n",
    "        toplam += i\n",
    "        sayac += 1\n",
    "\n",
    "print(toplam/sayac)\n",
    "        "
   ]
  },
  {
   "cell_type": "code",
   "execution_count": 59,
   "metadata": {},
   "outputs": [
    {
     "name": "stdout",
     "output_type": "stream",
     "text": [
      "2 sayı giriniz: 1 9\n",
      "Sayıların ortalaması= 5.0\n"
     ]
    }
   ],
   "source": [
    "def çift(başlangıç, bitiş):\n",
    "    lst = []\n",
    "    for i in range(başlangıç, bitiş+1):\n",
    "        if i % 2 == 0:\n",
    "            lst.append(i)\n",
    "    return lst\n",
    "\n",
    "a, b = list(map(int, input(\"2 sayı giriniz: \").split()))\n",
    "\n",
    "ortalama = sum(çift(a, b)) / len(çift(a, b))\n",
    "\n",
    "print(f\"Sayıların ortalaması= {ortalama}\")"
   ]
  },
  {
   "cell_type": "markdown",
   "metadata": {},
   "source": [
    "**SORU-6:** x listesi içinde verilen sayıları birbiriyle çarpan python kodunu yazınız.\n",
    "\n",
    "x = [1, 2, 3, 4, 5]\n",
    "\n",
    "* Fonksiyon tanımlanmalıdır"
   ]
  },
  {
   "cell_type": "code",
   "execution_count": 71,
   "metadata": {},
   "outputs": [
    {
     "name": "stdout",
     "output_type": "stream",
     "text": [
      "2 sayı giriniz : 3 5\n",
      "[3, 4, 5]\n"
     ]
    },
    {
     "data": {
      "text/plain": [
       "60"
      ]
     },
     "execution_count": 71,
     "metadata": {},
     "output_type": "execute_result"
    }
   ],
   "source": [
    "def çarpım(başlangıç, bitiş):\n",
    "    çarpma = 1\n",
    "    for i in range(başlangıç, bitiş + 1):\n",
    "        çarpma *= i\n",
    "    print(list(range(başlangıç, bitiş + 1)))\n",
    "    return çarpma\n",
    "\n",
    "x, y = list(map(int, input(\"2 sayı giriniz : \").split()))\n",
    "\n",
    "\n",
    "çarpım(x,y)\n",
    "\n"
   ]
  },
  {
   "cell_type": "markdown",
   "metadata": {},
   "source": [
    "**SORU-7:** Tanımlanan bir liste içinde aranan değerin kaç tane olduğunu bulan Python kodunu yazınız.\n",
    "\n",
    "x = [1, 3, 8, 6, 8, 10, 20, 6, 22, 14, 10, 8, 13, 7, 8] \n",
    "\n",
    "Output = 8 elemanı dizi içinde 4 adet bulunmaktadır\n",
    "\n",
    "* Fonksiyon tanımlanmalıdır"
   ]
  },
  {
   "cell_type": "code",
   "execution_count": 84,
   "metadata": {},
   "outputs": [
    {
     "name": "stdout",
     "output_type": "stream",
     "text": [
      "Lütfen liste içerisindeki sayıları giriniz : 1, 3, 8, 6, 8, 10, 20, 6, 22, 14, 10, 8, 13, 7, 8\n",
      "1 elemanı dizi içinde 1 adet bulunmaktadır.\n",
      "3 elemanı dizi içinde 1 adet bulunmaktadır.\n",
      "6 elemanı dizi içinde 2 adet bulunmaktadır.\n",
      "7 elemanı dizi içinde 1 adet bulunmaktadır.\n",
      "8 elemanı dizi içinde 4 adet bulunmaktadır.\n",
      "10 elemanı dizi içinde 2 adet bulunmaktadır.\n",
      "13 elemanı dizi içinde 1 adet bulunmaktadır.\n",
      "14 elemanı dizi içinde 1 adet bulunmaktadır.\n",
      "20 elemanı dizi içinde 1 adet bulunmaktadır.\n",
      "22 elemanı dizi içinde 1 adet bulunmaktadır.\n"
     ]
    }
   ],
   "source": [
    "def liste_sayac(listem):\n",
    "    for i in set(listem):\n",
    "        a = print(f\"{i} elemanı dizi içinde {listem.count(i)} adet bulunmaktadır.\")\n",
    "    return a\n",
    "\n",
    "\n",
    "x = list(map(int,input(\"Lütfen liste içerisindeki sayıları giriniz : \").split(\",\")))\n",
    "\n",
    "liste_sayac(x)"
   ]
  },
  {
   "cell_type": "markdown",
   "metadata": {},
   "source": [
    "**SORU-8:** Kullanıcıdan oluşturduğu listedeki herhangi iki elamanın yerini değiştiren python kodunu yazınız.\n",
    "\n",
    "* map() fonksiyonu kullanılmalı ve\n",
    "* Fonksiyon tanımlanmalıdır"
   ]
  },
  {
   "cell_type": "code",
   "execution_count": 86,
   "metadata": {},
   "outputs": [
    {
     "name": "stdout",
     "output_type": "stream",
     "text": [
      "Lütfen listenizi giriniz : 6 5 4 7 8 5\n"
     ]
    },
    {
     "data": {
      "text/plain": [
       "[6, 4, 5, 7, 8, 5]"
      ]
     },
     "execution_count": 86,
     "metadata": {},
     "output_type": "execute_result"
    }
   ],
   "source": [
    "def yer_değiştirme(liste,a,b):\n",
    "    liste[a], liste[b] = liste[b], liste[a]\n",
    "    return liste\n",
    "\n",
    "listem = list(map(int, input(\"Lütfen listenizi giriniz : \").split()))\n",
    "\n",
    "yer_değiştirme(listem,1,2)"
   ]
  },
  {
   "cell_type": "code",
   "execution_count": null,
   "metadata": {},
   "outputs": [],
   "source": []
  }
 ],
 "metadata": {
  "kernelspec": {
   "display_name": "Python 3",
   "language": "python",
   "name": "python3"
  },
  "language_info": {
   "codemirror_mode": {
    "name": "ipython",
    "version": 3
   },
   "file_extension": ".py",
   "mimetype": "text/x-python",
   "name": "python",
   "nbconvert_exporter": "python",
   "pygments_lexer": "ipython3",
   "version": "3.8.8"
  }
 },
 "nbformat": 4,
 "nbformat_minor": 2
}

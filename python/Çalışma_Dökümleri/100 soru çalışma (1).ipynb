{
 "cells": [
  {
   "cell_type": "markdown",
   "id": "898bfe6e",
   "metadata": {},
   "source": [
    "https://www.algoritmaornekleri.com/python/python-ornekleri-2/"
   ]
  },
  {
   "cell_type": "markdown",
   "id": "a7fcadca",
   "metadata": {},
   "source": [
    "Örnek 11:  1 den 10 a kadar olan sayıları alt alta yazdıran python kodunu yazınız."
   ]
  },
  {
   "cell_type": "code",
   "execution_count": 5,
   "id": "439b3281",
   "metadata": {},
   "outputs": [
    {
     "name": "stdout",
     "output_type": "stream",
     "text": [
      "1\n",
      "2\n",
      "3\n",
      "4\n",
      "5\n",
      "6\n",
      "7\n",
      "8\n",
      "9\n",
      "10\n"
     ]
    }
   ],
   "source": [
    "for i in range(1,11):\n",
    "    print(i)"
   ]
  },
  {
   "cell_type": "code",
   "execution_count": null,
   "id": "3ae37229",
   "metadata": {},
   "outputs": [],
   "source": [
    "1 den 20 ye kadar olan çift sayıları alt alta yazdıran python kodunu yazınız."
   ]
  },
  {
   "cell_type": "code",
   "execution_count": 6,
   "id": "d6fdb60e",
   "metadata": {},
   "outputs": [
    {
     "name": "stdout",
     "output_type": "stream",
     "text": [
      "2\n",
      "4\n",
      "6\n",
      "8\n",
      "10\n",
      "12\n",
      "14\n",
      "16\n",
      "18\n",
      "20\n"
     ]
    }
   ],
   "source": [
    "for i in range(1,21):\n",
    "    if i % 2 == 0:\n",
    "        print(i)"
   ]
  },
  {
   "cell_type": "markdown",
   "id": "f4747761",
   "metadata": {},
   "source": [
    "Örnek 13:  1 den 20 ye kadar olan tek sayıları alt alta yazdıran python kodunu yazınız."
   ]
  },
  {
   "cell_type": "code",
   "execution_count": 7,
   "id": "b9aff2eb",
   "metadata": {},
   "outputs": [
    {
     "name": "stdout",
     "output_type": "stream",
     "text": [
      "1\n",
      "3\n",
      "5\n",
      "7\n",
      "9\n",
      "11\n",
      "13\n",
      "15\n",
      "17\n",
      "19\n"
     ]
    }
   ],
   "source": [
    "for i in range(1,21):\n",
    "    if i % 2 != 0:\n",
    "        print(i)"
   ]
  },
  {
   "cell_type": "markdown",
   "id": "2c8d13de",
   "metadata": {},
   "source": [
    "Örnek 14:  1 den 100 e kadar olan sayılardan aynı anda 3 ve 5 e tam bölünen sayıları alt alta yazdıran python kodunu yazınız."
   ]
  },
  {
   "cell_type": "code",
   "execution_count": 8,
   "id": "3743da90",
   "metadata": {},
   "outputs": [
    {
     "name": "stdout",
     "output_type": "stream",
     "text": [
      "15\n",
      "30\n",
      "45\n",
      "60\n",
      "75\n",
      "90\n"
     ]
    }
   ],
   "source": [
    "for i in range(1,101):\n",
    "    if i % 3 == 0 and i % 5 == 0:\n",
    "        print(i)"
   ]
  },
  {
   "cell_type": "markdown",
   "id": "282290de",
   "metadata": {},
   "source": [
    "Örnek 15:  Klavyeden girilen sayıya kadar olan sayıları alt alta yazdıran python kodunu yazınız."
   ]
  },
  {
   "cell_type": "code",
   "execution_count": 11,
   "id": "c232d2ca",
   "metadata": {
    "scrolled": true
   },
   "outputs": [
    {
     "ename": "KeyboardInterrupt",
     "evalue": "Interrupted by user",
     "output_type": "error",
     "traceback": [
      "\u001b[1;31m---------------------------------------------------------------------------\u001b[0m",
      "\u001b[1;31mKeyboardInterrupt\u001b[0m                         Traceback (most recent call last)",
      "\u001b[1;32m<ipython-input-11-ed83a5e3d714>\u001b[0m in \u001b[0;36m<module>\u001b[1;34m\u001b[0m\n\u001b[1;32m----> 1\u001b[1;33m \u001b[0msayı\u001b[0m \u001b[1;33m=\u001b[0m \u001b[0mint\u001b[0m\u001b[1;33m(\u001b[0m\u001b[0minput\u001b[0m\u001b[1;33m(\u001b[0m\u001b[1;34m\"Lütfen sayıyı giriniz: \"\u001b[0m\u001b[1;33m)\u001b[0m\u001b[1;33m)\u001b[0m\u001b[1;33m\u001b[0m\u001b[1;33m\u001b[0m\u001b[0m\n\u001b[0m\u001b[0;32m      2\u001b[0m \u001b[1;33m\u001b[0m\u001b[0m\n\u001b[0;32m      3\u001b[0m \u001b[1;32mfor\u001b[0m \u001b[0mi\u001b[0m \u001b[1;32min\u001b[0m \u001b[0mrange\u001b[0m\u001b[1;33m(\u001b[0m\u001b[1;36m0\u001b[0m\u001b[1;33m,\u001b[0m \u001b[0msayı\u001b[0m \u001b[1;33m+\u001b[0m \u001b[1;36m1\u001b[0m\u001b[1;33m)\u001b[0m\u001b[1;33m:\u001b[0m\u001b[1;33m\u001b[0m\u001b[1;33m\u001b[0m\u001b[0m\n\u001b[0;32m      4\u001b[0m     \u001b[0mprint\u001b[0m\u001b[1;33m(\u001b[0m\u001b[0mi\u001b[0m\u001b[1;33m)\u001b[0m\u001b[1;33m\u001b[0m\u001b[1;33m\u001b[0m\u001b[0m\n",
      "\u001b[1;32m~\\anaconda3\\lib\\site-packages\\ipykernel\\kernelbase.py\u001b[0m in \u001b[0;36mraw_input\u001b[1;34m(self, prompt)\u001b[0m\n\u001b[0;32m    858\u001b[0m                 \u001b[1;34m\"raw_input was called, but this frontend does not support input requests.\"\u001b[0m\u001b[1;33m\u001b[0m\u001b[1;33m\u001b[0m\u001b[0m\n\u001b[0;32m    859\u001b[0m             )\n\u001b[1;32m--> 860\u001b[1;33m         return self._input_request(str(prompt),\n\u001b[0m\u001b[0;32m    861\u001b[0m             \u001b[0mself\u001b[0m\u001b[1;33m.\u001b[0m\u001b[0m_parent_ident\u001b[0m\u001b[1;33m,\u001b[0m\u001b[1;33m\u001b[0m\u001b[1;33m\u001b[0m\u001b[0m\n\u001b[0;32m    862\u001b[0m             \u001b[0mself\u001b[0m\u001b[1;33m.\u001b[0m\u001b[0m_parent_header\u001b[0m\u001b[1;33m,\u001b[0m\u001b[1;33m\u001b[0m\u001b[1;33m\u001b[0m\u001b[0m\n",
      "\u001b[1;32m~\\anaconda3\\lib\\site-packages\\ipykernel\\kernelbase.py\u001b[0m in \u001b[0;36m_input_request\u001b[1;34m(self, prompt, ident, parent, password)\u001b[0m\n\u001b[0;32m    902\u001b[0m             \u001b[1;32mexcept\u001b[0m \u001b[0mKeyboardInterrupt\u001b[0m\u001b[1;33m:\u001b[0m\u001b[1;33m\u001b[0m\u001b[1;33m\u001b[0m\u001b[0m\n\u001b[0;32m    903\u001b[0m                 \u001b[1;31m# re-raise KeyboardInterrupt, to truncate traceback\u001b[0m\u001b[1;33m\u001b[0m\u001b[1;33m\u001b[0m\u001b[1;33m\u001b[0m\u001b[0m\n\u001b[1;32m--> 904\u001b[1;33m                 \u001b[1;32mraise\u001b[0m \u001b[0mKeyboardInterrupt\u001b[0m\u001b[1;33m(\u001b[0m\u001b[1;34m\"Interrupted by user\"\u001b[0m\u001b[1;33m)\u001b[0m \u001b[1;32mfrom\u001b[0m \u001b[1;32mNone\u001b[0m\u001b[1;33m\u001b[0m\u001b[1;33m\u001b[0m\u001b[0m\n\u001b[0m\u001b[0;32m    905\u001b[0m             \u001b[1;32mexcept\u001b[0m \u001b[0mException\u001b[0m \u001b[1;32mas\u001b[0m \u001b[0me\u001b[0m\u001b[1;33m:\u001b[0m\u001b[1;33m\u001b[0m\u001b[1;33m\u001b[0m\u001b[0m\n\u001b[0;32m    906\u001b[0m                 \u001b[0mself\u001b[0m\u001b[1;33m.\u001b[0m\u001b[0mlog\u001b[0m\u001b[1;33m.\u001b[0m\u001b[0mwarning\u001b[0m\u001b[1;33m(\u001b[0m\u001b[1;34m\"Invalid Message:\"\u001b[0m\u001b[1;33m,\u001b[0m \u001b[0mexc_info\u001b[0m\u001b[1;33m=\u001b[0m\u001b[1;32mTrue\u001b[0m\u001b[1;33m)\u001b[0m\u001b[1;33m\u001b[0m\u001b[1;33m\u001b[0m\u001b[0m\n",
      "\u001b[1;31mKeyboardInterrupt\u001b[0m: Interrupted by user"
     ]
    }
   ],
   "source": [
    "sayı = int(input(\"Lütfen sayıyı giriniz: \"))\n",
    "\n",
    "for i in range(0, sayı + 1):\n",
    "    print(i)"
   ]
  },
  {
   "cell_type": "markdown",
   "id": "373320c8",
   "metadata": {},
   "source": [
    "Örnek 16:  Klavyeden kısa kenar uzunluğu ve uzun kenar uzunluğu girilen dikdörtgenin alan ve çevresini hesaplayan python kodunu yazınız."
   ]
  },
  {
   "cell_type": "code",
   "execution_count": 12,
   "id": "84a0f334",
   "metadata": {},
   "outputs": [
    {
     "name": "stdout",
     "output_type": "stream",
     "text": [
      "Lütfen kısa kenarı giriniz: 12\n",
      "Lütfen uzun kenarı giriniz: 15\n",
      "kenar uzunlukları verilen dikdörtgenin çevresi 54, alanı iste 180 olur.\n"
     ]
    }
   ],
   "source": [
    "kısa_kenar = int(input(\"Lütfen kısa kenarı giriniz: \"))\n",
    "uzun_kenar = int(input(\"Lütfen uzun kenarı giriniz: \"))\n",
    "\n",
    "alan = kısa_kenar * uzun_kenar\n",
    "çevre = 2 * (kısa_kenar + uzun_kenar)\n",
    "\n",
    "print(\"kenar uzunlukları verilen dikdörtgenin çevresi {}, alanı iste {} olur.\".format(çevre, alan))"
   ]
  },
  {
   "cell_type": "markdown",
   "id": "6665bee3",
   "metadata": {},
   "source": [
    "Örnek 17:  Klavyeden girilen bir metnin harflerini alt alta yazdıran python kodunu yazınız."
   ]
  },
  {
   "cell_type": "code",
   "execution_count": 86,
   "id": "6588635f",
   "metadata": {},
   "outputs": [
    {
     "name": "stdout",
     "output_type": "stream",
     "text": [
      "Lütfen metni giriniz: mustafa\n",
      "m\n",
      "u\n",
      "s\n",
      "t\n",
      "a\n",
      "f\n",
      "a\n"
     ]
    }
   ],
   "source": [
    "metin = input(\"Lütfen metni giriniz: \")\n",
    "for i in metin:\n",
    "    print(i)"
   ]
  },
  {
   "cell_type": "code",
   "execution_count": 85,
   "id": "ac5fdf1b",
   "metadata": {},
   "outputs": [
    {
     "name": "stdout",
     "output_type": "stream",
     "text": [
      "Lütfen metni giriniz: mustafa\n",
      "m\n",
      "u\n",
      "s\n",
      "t\n",
      "a\n",
      "f\n",
      "a\n"
     ]
    }
   ],
   "source": [
    "metin = input(\"Lütfen metni giriniz: \")\n",
    "sayac = 0\n",
    "\n",
    "while sayac < len(metin):\n",
    "    print(metin[sayac])\n",
    "    sayac += 1"
   ]
  },
  {
   "cell_type": "markdown",
   "id": "9a85bd6e",
   "metadata": {},
   "source": [
    "Örnek 18:  Klavyeden girilen iki sayı arasındaki sayıları toplayan python kodunu yazınız."
   ]
  },
  {
   "cell_type": "code",
   "execution_count": 90,
   "id": "eaf01d7b",
   "metadata": {},
   "outputs": [
    {
     "name": "stdout",
     "output_type": "stream",
     "text": [
      "birinci sayıyı giriniz: 1\n",
      "ikinci sayıyı giriniz: 5\n",
      "15\n"
     ]
    }
   ],
   "source": [
    "sayı1 = int(input(\"birinci sayıyı giriniz: \"))\n",
    "sayı2 = int(input(\"ikinci sayıyı giriniz: \"))\n",
    "toplam = 0\n",
    "\n",
    "for i in range(sayı1, sayı2 +1 ):\n",
    "    toplam += i\n",
    "print(toplam)"
   ]
  },
  {
   "cell_type": "markdown",
   "id": "6fa302c0",
   "metadata": {},
   "source": [
    "Örnek 19:  Klavyeden girilen sayının asal sayı olup olmadığını bulan python kodunu yazınız."
   ]
  },
  {
   "cell_type": "code",
   "execution_count": 114,
   "id": "31fe43f9",
   "metadata": {},
   "outputs": [
    {
     "name": "stdout",
     "output_type": "stream",
     "text": [
      "Lütfen sayıyı giriniz: 15\n",
      "Girilen sayı asal değildir.\n"
     ]
    }
   ],
   "source": [
    "sayı = int(input(\"Lütfen sayıyı giriniz: \"))\n",
    "sayac = 0\n",
    "for i in range(2, sayı):\n",
    "    if sayı % i == 0:\n",
    "        sayac += i\n",
    "        break\n",
    "if sayac != 0:\n",
    "    print(\"Girilen sayı asal değildir.\")\n",
    "else:\n",
    "    print(\"asaldır.\")"
   ]
  },
  {
   "cell_type": "markdown",
   "id": "d76d7d34",
   "metadata": {},
   "source": [
    "Örnek 20:  Klavyeden girilen sayıya kadar olan sayılardan tek sayıların toplamını ve çift sayıların toplamını ayrı ayrı bulan python kodunu yazınız."
   ]
  },
  {
   "cell_type": "code",
   "execution_count": 121,
   "id": "4b53dac1",
   "metadata": {},
   "outputs": [
    {
     "name": "stdout",
     "output_type": "stream",
     "text": [
      "Lütfen sayıyı giriniz: 60\n",
      "çift sayıların toplamı : 870\n",
      "tek sayıların toplamı : 900\n"
     ]
    }
   ],
   "source": [
    "sayı = int(input(\"Lütfen sayıyı giriniz: \"))\n",
    "tektoplam = 0\n",
    "çifttoplam = 0\n",
    "\n",
    "for i in range(0, sayı):\n",
    "    if i % 2 == 0:\n",
    "        çifttoplam += i\n",
    "    else:\n",
    "        tektoplam += i\n",
    "print(\"çift sayıların toplamı : {}\".format(çifttoplam))\n",
    "print(\"tek sayıların toplamı : {}\".format(tektoplam))"
   ]
  },
  {
   "cell_type": "markdown",
   "id": "ce787384",
   "metadata": {},
   "source": [
    "Örnek 21:  Klavyeden maaşı ve zam oranı girilen kişinin zamlı maaşını hesaplayan python kodunu yazınız."
   ]
  },
  {
   "cell_type": "code",
   "execution_count": 125,
   "id": "81854c9c",
   "metadata": {},
   "outputs": [
    {
     "name": "stdout",
     "output_type": "stream",
     "text": [
      "Lütfen maaşınızı giriniz:3500\n",
      "Lütfen zam oranınızı giriniz :8\n",
      "3780.0\n"
     ]
    }
   ],
   "source": [
    "maaş = int(input(\"Lütfen maaşınızı giriniz:\"))\n",
    "zam_oran = int(input(\"Lütfen zam oranınızı giriniz :\"))\n",
    "\n",
    "yeni_maaş = maaş + (maaş * zam_oran / 100)\n",
    "print(yeni_maaş)\n"
   ]
  },
  {
   "cell_type": "markdown",
   "id": "aaf3122b",
   "metadata": {},
   "source": [
    "Örnek 22:  Klavyeden yarıçapı girilen dairenin çevresini ve alanını hesaplayan python kodunu yazınız."
   ]
  },
  {
   "cell_type": "code",
   "execution_count": 128,
   "id": "b8f91c1b",
   "metadata": {},
   "outputs": [
    {
     "name": "stdout",
     "output_type": "stream",
     "text": [
      "Lütfen dairenin yapıçapını giriniz : 5\n",
      "Dairenin alanı : 78.50\n",
      "Dairenin çevresi : 31.40\n"
     ]
    }
   ],
   "source": [
    "pi = 3.14\n",
    "yarı_cap = int(input(\"Lütfen dairenin yapıçapını giriniz : \"))\n",
    "\n",
    "daire_alan = pi * yarı_cap ** 2\n",
    "daire_çevre = 2 * pi * yarı_cap\n",
    "\n",
    "print(\"Dairenin alanı : {:.2f}\".format(daire_alan))\n",
    "print(\"Dairenin çevresi : {:.2f}\".format(daire_çevre))"
   ]
  },
  {
   "cell_type": "markdown",
   "id": "c49a3cd3",
   "metadata": {},
   "source": [
    "Örnek 24:  Önceden belirlenen bir liste içerisinde bulunan sayılardan kaç tanesinin 5’in katı olduğunu bulan python kodunu yazınız."
   ]
  },
  {
   "cell_type": "code",
   "execution_count": 139,
   "id": "e20f4759",
   "metadata": {},
   "outputs": [
    {
     "name": "stdout",
     "output_type": "stream",
     "text": [
      "[15, 85, 65, 30, 95, 10, 20, 55, 5]\n"
     ]
    }
   ],
   "source": [
    "sayilar = [18,15,22,19,85,32,65,30,95,10,12,20,32,55,34,28,101,5,4,32]\n",
    "liste = []\n",
    "for i in sayilar:\n",
    "    if i % 5 == 0:\n",
    "        liste.append(i)\n",
    "print(liste)"
   ]
  },
  {
   "cell_type": "markdown",
   "id": "53cd77f4",
   "metadata": {},
   "source": [
    "Örnek 25:  Klavyeden girilen başlangıç ve bitiş sayıları arasında bulunan çift sayıların ortalamasını bulan python kodunu yazınız."
   ]
  },
  {
   "cell_type": "code",
   "execution_count": 160,
   "id": "98be1fa5",
   "metadata": {},
   "outputs": [
    {
     "name": "stdout",
     "output_type": "stream",
     "text": [
      "Başlangıç sayısını giriniz: 15\n",
      "bitiş sayısını giriniz: 45\n",
      "Başlangıç ve bitiş sayıları verilen sayı aralığında çift sayıların ortalaması 30.0 olur.\n"
     ]
    }
   ],
   "source": [
    "sayı1 = int(input(\"Başlangıç sayısını giriniz: \"))\n",
    "sayı2 = int(input(\"bitiş sayısını giriniz: \"))\n",
    "sayac = 0\n",
    "listem = []\n",
    "\n",
    "for i in range(sayı1, sayı2 + 1):\n",
    "    if i % 2 == 0:\n",
    "        sayac += i\n",
    "        listem.append(i)\n",
    "\n",
    "print(\"Başlangıç ve bitiş sayıları verilen sayı aralığında çift sayıların ortalaması {} olur.\".format(sayac / len(listem)))\n",
    "\n",
    "\n"
   ]
  },
  {
   "cell_type": "markdown",
   "id": "ace49812",
   "metadata": {},
   "source": [
    "Örnek 27:  Klavyeden girilen başlangıç ve bitiş sayıları arasında bulunan sayıların ortalamasını bulan python kodunu yazınız."
   ]
  },
  {
   "cell_type": "code",
   "execution_count": 172,
   "id": "58d8a73a",
   "metadata": {},
   "outputs": [
    {
     "name": "stdout",
     "output_type": "stream",
     "text": [
      "Başlangıç sayısını giriniz: 1\n",
      "bitiş sayısını giriniz: 1000\n",
      "500.5\n"
     ]
    }
   ],
   "source": [
    "sayı1 = int(input(\"Başlangıç sayısını giriniz: \"))\n",
    "sayı2 = int(input(\"bitiş sayısını giriniz: \"))\n",
    "toplam = 0\n",
    "sayac = 0\n",
    "\n",
    "for i in range(sayı1, sayı2 + 1):\n",
    "    toplam += i\n",
    "    sayac += 1\n",
    "print(toplam / sayac)"
   ]
  },
  {
   "cell_type": "markdown",
   "id": "dfb57af1",
   "metadata": {},
   "source": [
    "Örnek 34:  Klavyeden girilen üç yazılı notunun ortalamasını bulan python kodunu yazınız."
   ]
  },
  {
   "cell_type": "code",
   "execution_count": 174,
   "id": "b2bbb6e4",
   "metadata": {},
   "outputs": [
    {
     "name": "stdout",
     "output_type": "stream",
     "text": [
      "Lütfen 1. sınav notunu giriniz: 12\n",
      "Lütfen 2. sınav notunu giriniz: 54\n",
      "Lütfen 3. sınav notunu giriniz: 68\n",
      "44.67\n"
     ]
    }
   ],
   "source": [
    "sınav1 = float(input(\"Lütfen 1. sınav notunu giriniz: \"))\n",
    "sınav2 = float(input(\"Lütfen 2. sınav notunu giriniz: \"))\n",
    "sınav3 = float(input(\"Lütfen 3. sınav notunu giriniz: \"))\n",
    "ortalama = (sınav1 + sınav2 + sınav3) / 3\n",
    "print(\"{:.2f}\".format(ortalama))"
   ]
  },
  {
   "cell_type": "markdown",
   "id": "acd65063",
   "metadata": {},
   "source": [
    "Örnek 36:  Örnek :Bir otoparkın ücret tarifesi aşağıdaki gibidir:\n",
    "\n",
    "1 saate kadar: 5 TL\n",
    "1-5 saat arası: Saat başı 4 TL\n",
    "5 saatten fazla: Saat başı 3 TL\n",
    "Buna göre kullanıcının girdiği otoparkta kalınan saat süresine göre ödenecek miktarı bularak ekrana yazdırınız."
   ]
  },
  {
   "cell_type": "code",
   "execution_count": 183,
   "id": "377a0c72",
   "metadata": {},
   "outputs": [
    {
     "name": "stdout",
     "output_type": "stream",
     "text": [
      "Otoparkta kaldığınız süreyi giriniz (saat): 12\n",
      "36.0 TL\n"
     ]
    }
   ],
   "source": [
    "saat = float(input(\"Otoparkta kaldığınız süreyi giriniz (saat): \"))\n",
    "ödeme = int()\n",
    "if saat < 1:\n",
    "    ödeme = 5 * saat\n",
    "elif 1 <= saat < 5:\n",
    "    ödeme = 4 * saat\n",
    "elif saat >= 5:\n",
    "    ödeme = 3 * saat\n",
    "print(ödeme, \"TL\")"
   ]
  },
  {
   "cell_type": "markdown",
   "id": "febead07",
   "metadata": {},
   "source": [
    "Örnek 37:  Klavyeden girilen bir ifadeyi ekrana 10 defa yazdıran python kodunu yazınız."
   ]
  },
  {
   "cell_type": "code",
   "execution_count": 190,
   "id": "155bd912",
   "metadata": {
    "scrolled": true
   },
   "outputs": [
    {
     "name": "stdout",
     "output_type": "stream",
     "text": [
      "Lütfen ifadenizi giriniz : mustafa\n",
      "mustafa\n",
      "mustafa\n",
      "mustafa\n",
      "mustafa\n",
      "mustafa\n",
      "mustafa\n",
      "mustafa\n",
      "mustafa\n",
      "mustafa\n",
      "mustafa\n"
     ]
    }
   ],
   "source": [
    "ifade = input(\"Lütfen ifadenizi giriniz : \")\n",
    "sayac = 1\n",
    "while sayac <= 10:\n",
    "    print(ifade)\n",
    "    sayac += 1\n",
    "    \n",
    "\n",
    "    "
   ]
  },
  {
   "cell_type": "markdown",
   "id": "b1b333ac",
   "metadata": {},
   "source": [
    "Örnek 38:  Klavyeden girilen bir ifadeyi klavyeden girilen bir sayı kadar ekrana yazdıran python kodunu yazınızm"
   ]
  },
  {
   "cell_type": "code",
   "execution_count": 193,
   "id": "1431b4d9",
   "metadata": {},
   "outputs": [
    {
     "name": "stdout",
     "output_type": "stream",
     "text": [
      "Lütfen ifadenizi giriniz : mustafa\n",
      "Lütfen tekrar etme miktarını giriniz : 5\n",
      "mustafa\n",
      "mustafa\n",
      "mustafa\n",
      "mustafa\n",
      "mustafa\n"
     ]
    }
   ],
   "source": [
    "ifade = input(\"Lütfen ifadenizi giriniz : \")\n",
    "sayac = int(input(\"Lütfen tekrar etme miktarını giriniz : \"))\n",
    "sayac1 = 1\n",
    "\n",
    "while sayac1 <= sayac:\n",
    "    print(ifade)\n",
    "    sayac1 += 1"
   ]
  },
  {
   "cell_type": "markdown",
   "id": "4bbf1b52",
   "metadata": {},
   "source": [
    "Örnek 39:  Klavyeden aralarına virgül konularak yazılan tüm sayıları toplayan python kodunu yazınız."
   ]
  },
  {
   "cell_type": "code",
   "execution_count": 201,
   "id": "e7c2ae8a",
   "metadata": {},
   "outputs": [
    {
     "name": "stdout",
     "output_type": "stream",
     "text": [
      "aralarına virgül koyalar sayıları yazınız : 10,10,10\n",
      "30\n"
     ]
    }
   ],
   "source": [
    "n = input(\"aralarına virgül koyalar sayıları yazınız : \")\n",
    "toplam = 0\n",
    "n1 = n.split(\",\")\n",
    "\n",
    "for i in n1:\n",
    "    toplam += int(i)\n",
    "print(toplam)"
   ]
  },
  {
   "cell_type": "markdown",
   "id": "c8e0a9a1",
   "metadata": {},
   "source": [
    "Örnek 40:  Klavyeden aralarına virgül konularak yazılan tüm sayıların ortalamasını hesaplayan python kodunu yazınız."
   ]
  },
  {
   "cell_type": "code",
   "execution_count": 206,
   "id": "0e87b290",
   "metadata": {},
   "outputs": [
    {
     "name": "stdout",
     "output_type": "stream",
     "text": [
      "Aralarına virgül koyarak sayıları tanımlayınız: 10,10,10,10\n",
      "Ortalama : 10.0\n"
     ]
    }
   ],
   "source": [
    "m = input(\"Aralarına virgül koyarak sayıları tanımlayınız: \")\n",
    "toplam = 0\n",
    "sayac = 0\n",
    "m1 = m.split(\",\")\n",
    "\n",
    "for i in m1:\n",
    "    toplam += int(i)\n",
    "    sayac += 1\n",
    "\n",
    "print(\"Ortalama :\", (toplam / sayac))"
   ]
  },
  {
   "cell_type": "markdown",
   "id": "3ec9cad0",
   "metadata": {},
   "source": [
    "Örnek 41:  Klavyeden başlangıç değeri, bitiş değeri ve artış miktarı girilen sayıları alt alta yazdıran python kodunu yazınız."
   ]
  },
  {
   "cell_type": "code",
   "execution_count": 209,
   "id": "d3eddefc",
   "metadata": {},
   "outputs": [
    {
     "name": "stdout",
     "output_type": "stream",
     "text": [
      "Lütfen başlangıç değerini giriniz : 20\n",
      "Lütfen bitiş değerini giriniz : 150\n",
      "Lütfen artış miktarını giriniz: 5\n",
      "20\n",
      "25\n",
      "30\n",
      "35\n",
      "40\n",
      "45\n",
      "50\n",
      "55\n",
      "60\n",
      "65\n",
      "70\n",
      "75\n",
      "80\n",
      "85\n",
      "90\n",
      "95\n",
      "100\n",
      "105\n",
      "110\n",
      "115\n",
      "120\n",
      "125\n",
      "130\n",
      "135\n",
      "140\n",
      "145\n",
      "150\n"
     ]
    }
   ],
   "source": [
    "başlangıç = int(input(\"Lütfen başlangıç değerini giriniz : \"))\n",
    "bitiş = int(input(\"Lütfen bitiş değerini giriniz : \"))\n",
    "artış = int(input(\"Lütfen artış miktarını giriniz: \"))\n",
    "\n",
    "for i in range(başlangıç, bitiş + 1, artış):\n",
    "    print(i)"
   ]
  },
  {
   "cell_type": "markdown",
   "id": "e2529892",
   "metadata": {},
   "source": [
    "Örnek 42:  0 dan 100 e kadar olan çift sayıların toplamını hesaplayan ve sonucu yazdıran python kodunu while döngüsü kullanarak yapan kodunu yazınız."
   ]
  },
  {
   "cell_type": "code",
   "execution_count": 229,
   "id": "106a7daa",
   "metadata": {},
   "outputs": [
    {
     "name": "stdout",
     "output_type": "stream",
     "text": [
      "2550\n"
     ]
    }
   ],
   "source": [
    "toplam = 0\n",
    "for i in range(0,101):\n",
    "    if i % 2 == 0:\n",
    "        toplam += i\n",
    "print(toplam)\n"
   ]
  },
  {
   "cell_type": "code",
   "execution_count": 230,
   "id": "65408970",
   "metadata": {},
   "outputs": [
    {
     "name": "stdout",
     "output_type": "stream",
     "text": [
      "2550\n"
     ]
    }
   ],
   "source": [
    "toplam = 0\n",
    "sayac = 0\n",
    "\n",
    "while sayac < 100:\n",
    "    sayac += 2\n",
    "    toplam += sayac\n",
    "print(toplam)"
   ]
  },
  {
   "cell_type": "markdown",
   "id": "215b38aa",
   "metadata": {},
   "source": [
    "Örnek 43:  0 dan 100 e kadar olan tek sayıların toplamını hesaplayan ve sonucu yazdıran python kodunu while döngüsü kullanarak yapan kodunu yazınız."
   ]
  },
  {
   "cell_type": "code",
   "execution_count": 239,
   "id": "000eca2e",
   "metadata": {},
   "outputs": [
    {
     "name": "stdout",
     "output_type": "stream",
     "text": [
      "2600\n"
     ]
    }
   ],
   "source": [
    "toplam = 0\n",
    "sayac = 1\n",
    "\n",
    "while sayac < 100:\n",
    "    sayac += 2\n",
    "    toplam += sayac\n",
    "\n",
    "print(toplam)"
   ]
  },
  {
   "cell_type": "code",
   "execution_count": 241,
   "id": "a4231cf7",
   "metadata": {},
   "outputs": [
    {
     "name": "stdout",
     "output_type": "stream",
     "text": [
      "2500\n"
     ]
    }
   ],
   "source": [
    "toplam = 0\n",
    "\n",
    "for i in range(1,101):\n",
    "    if i % 2 != 0:\n",
    "        toplam += i\n",
    "print(toplam)"
   ]
  },
  {
   "cell_type": "markdown",
   "id": "934eba56",
   "metadata": {},
   "source": [
    "Örnek 44:  Klavyeden girilen sayıya kadar olan sayıların toplamını hesaplayan ve sonucu yazdıran python kodunu while döngüsü kullanarak yapan kodunu yazınız."
   ]
  },
  {
   "cell_type": "code",
   "execution_count": 250,
   "id": "fc3015ad",
   "metadata": {},
   "outputs": [
    {
     "name": "stdout",
     "output_type": "stream",
     "text": [
      "Lütfen sayı giriniz :50\n",
      "1275\n"
     ]
    }
   ],
   "source": [
    "sayı = int(input(\"Lütfen sayı giriniz :\"))\n",
    "\n",
    "toplam1 = 0\n",
    "sayac = 0\n",
    "\n",
    "while sayac < sayı:\n",
    "    sayac += 1\n",
    "    toplam1 += sayac\n",
    "print(toplam1)\n"
   ]
  },
  {
   "cell_type": "markdown",
   "id": "bcb46c9a",
   "metadata": {},
   "source": [
    "Örnek 45:  Klavyeden girilen sayıya kadar olan tek sayıların toplamını hesaplayan ve sonucu yazdıran python kodunu while döngüsü kullanarak yapan kodunu yazınız."
   ]
  },
  {
   "cell_type": "code",
   "execution_count": 267,
   "id": "cd2ac234",
   "metadata": {},
   "outputs": [
    {
     "name": "stdout",
     "output_type": "stream",
     "text": [
      "Lütfen sayı giriniz :25\n",
      "169\n"
     ]
    }
   ],
   "source": [
    "sayı = int(input(\"Lütfen sayı giriniz :\"))\n",
    "toplam = 0\n",
    "sayac = 1\n",
    "\n",
    "while sayac < sayı:\n",
    "    sayac += 2\n",
    "    toplam += sayac\n",
    "\n",
    "    \n",
    "print(toplam + 1)"
   ]
  },
  {
   "cell_type": "markdown",
   "id": "7d34813a",
   "metadata": {},
   "source": [
    "Örnek 46:  Klavyeden girilen sayıya kadar olan çift sayıların toplamını hesaplayan ve sonucu yazdıran python kodunu while döngüsü kullanarak yapan kodunu yazınız."
   ]
  },
  {
   "cell_type": "code",
   "execution_count": 275,
   "id": "f2931595",
   "metadata": {},
   "outputs": [
    {
     "name": "stdout",
     "output_type": "stream",
     "text": [
      "Lütfen sayı giriniz :11\n",
      "30\n"
     ]
    }
   ],
   "source": [
    "sayı = int(input(\"Lütfen sayı giriniz :\"))\n",
    "toplam = 0\n",
    "sayac = 0\n",
    "\n",
    "while sayac < sayı:\n",
    "    sayac += 2\n",
    "    toplam += sayac\n",
    "\n",
    "\n",
    "if sayı % 2 != 0:\n",
    "    print(toplam - (sayı + 1))\n",
    "else: \n",
    "    print(toplam)"
   ]
  },
  {
   "cell_type": "markdown",
   "id": "025b4e59",
   "metadata": {},
   "source": [
    "Örnek 47:  Klavyeden girilen bir metni harflarine ayıran python programını while döngüsü ile yazdıran kodunu yazınız."
   ]
  },
  {
   "cell_type": "code",
   "execution_count": 279,
   "id": "f2e7cb7f",
   "metadata": {},
   "outputs": [
    {
     "name": "stdout",
     "output_type": "stream",
     "text": [
      "Lütfen metin giriniz : mustafa\n",
      "m\n",
      "u\n",
      "s\n",
      "t\n",
      "a\n",
      "f\n",
      "a\n"
     ]
    }
   ],
   "source": [
    "metin = input(\"Lütfen metin giriniz : \")\n",
    "sayac = 0\n",
    "\n",
    "while sayac < len(metin):\n",
    "    print(metin[sayac])\n",
    "    sayac += 1"
   ]
  },
  {
   "cell_type": "markdown",
   "id": "2556a5cf",
   "metadata": {},
   "source": [
    "Örnek 48:  0 ile 100 arasında 10 tane rastgele tam sayı üreten ve bu sayılardan en büyüğü ile en küçüğünü bulan ve ekranda gösteren python kodunu yazınız."
   ]
  },
  {
   "cell_type": "code",
   "execution_count": null,
   "id": "84c627dc",
   "metadata": {},
   "outputs": [],
   "source": []
  },
  {
   "cell_type": "markdown",
   "id": "6994c7fd",
   "metadata": {},
   "source": [
    "Örnek 49:  Kullanıcının klavyeden kilo bilgisi alınarak kilo 50 ve altında ise zayıfsın, 50-80 arası fitsin, 80 ve üstü ise kilo almışsın şeklinde ekranda yazdıran python kodunu yazınız."
   ]
  },
  {
   "cell_type": "code",
   "execution_count": 280,
   "id": "94044cda",
   "metadata": {},
   "outputs": [
    {
     "name": "stdout",
     "output_type": "stream",
     "text": [
      "Lütfen kilo bilgisini giriniz : 46\n",
      "Zayıfsın\n"
     ]
    }
   ],
   "source": [
    "kilo = float(input(\"Lütfen kilo bilgisini giriniz : \"))\n",
    "\n",
    "if kilo <= 50:\n",
    "    print(\"Zayıfsın\")\n",
    "elif 50 < kilo < 80:\n",
    "    print(\"Fitsin\")\n",
    "elif kilo > 80:\n",
    "    print(\"Kilo almışsın\")"
   ]
  },
  {
   "cell_type": "markdown",
   "id": "aa8cbfbc",
   "metadata": {},
   "source": [
    "Örnek 50:  Kullanıcının klavyeden yaş bilgisi alınıp 18 yaşından küçükse çocuk 18-40 yaş arası ise genç, 40-60 yaş arası ise orta yaşlı 60 yaştan büyükse yaşlı şeklinde ekrana yazdıran programın python kodlarını yazınız.m"
   ]
  },
  {
   "cell_type": "code",
   "execution_count": 281,
   "id": "e2e57f3e",
   "metadata": {},
   "outputs": [
    {
     "name": "stdout",
     "output_type": "stream",
     "text": [
      "Lütfen yaşınızı giriniz:45\n",
      "Orta yaşlı\n"
     ]
    }
   ],
   "source": [
    "yaş = int(input(\"Lütfen yaşınızı giriniz:\"))\n",
    "\n",
    "if yaş < 18:\n",
    "    print(\"Çocuk\")\n",
    "elif 18 <= yaş <= 40:\n",
    "    print(\"Genç\")\n",
    "elif 40 < yaş <= 60:\n",
    "    print(\"Orta yaşlı\")\n",
    "elif yaş > 60:\n",
    "    print(\"Yaşlı\")"
   ]
  },
  {
   "cell_type": "markdown",
   "id": "a07b8cef",
   "metadata": {},
   "source": [
    "Örnek 52:  Klavyeden girilen bir sayının rakamlarının toplamını bulan ve ekranda gösteren python kodunu yazınız."
   ]
  },
  {
   "cell_type": "code",
   "execution_count": 328,
   "id": "bec94bcd",
   "metadata": {},
   "outputs": [
    {
     "name": "stdout",
     "output_type": "stream",
     "text": [
      "Lütfen sayıyı giriniz: 11111\n",
      "5\n"
     ]
    }
   ],
   "source": [
    "sayı = input(\"Lütfen sayıyı giriniz: \")\n",
    "\n",
    "toplam = 0\n",
    "\n",
    "for i in sayı:\n",
    "    toplam += int(i)\n",
    "print(toplam)"
   ]
  },
  {
   "cell_type": "markdown",
   "id": "e76a0fe6",
   "metadata": {},
   "source": [
    "Örnek 57:  Klavyeden girilen saniye değerinin kaç saat kaç dakika ve kaç saniye olduğunu bulan python kodunu yazınız."
   ]
  },
  {
   "cell_type": "code",
   "execution_count": 331,
   "id": "d5ca4822",
   "metadata": {},
   "outputs": [
    {
     "name": "stdout",
     "output_type": "stream",
     "text": [
      "Lütfen zaman dilimini giriniz(saat olarak): 3\n",
      "3.0 saat 180 dakika 10800 saniye yapmaktadır.\n"
     ]
    }
   ],
   "source": [
    "saat = float(input(\"Lütfen zaman dilimini giriniz(saat olarak): \"))\n",
    "\n",
    "dakika = int(saat * 60)\n",
    "saniye = int(saat * 60 * 60)\n",
    "\n",
    "print(\"{} saat {} dakika {} saniye yapmaktadır.\".format(saat, dakika, saniye))"
   ]
  },
  {
   "cell_type": "markdown",
   "id": "4bca6592",
   "metadata": {},
   "source": [
    "Örnek 59:  Klavyeden girilen iki sayıdan büyük olanı bulan ve ekranda gösteren python kodunu yazınız."
   ]
  },
  {
   "cell_type": "code",
   "execution_count": 1,
   "id": "6b96821e",
   "metadata": {},
   "outputs": [
    {
     "name": "stdout",
     "output_type": "stream",
     "text": [
      "Lütfen birinci sayıyı giriniz : 15\n",
      "Lütfen ikinci sayıyı giriniz  :65\n",
      "65\n"
     ]
    }
   ],
   "source": [
    "sayı_1 = int(input(\"Lütfen birinci sayıyı giriniz : \"))\n",
    "sayı_2 = int(input(\"Lütfen ikinci sayıyı giriniz  :\"))\n",
    "\n",
    "if sayı_1 > sayı_2:\n",
    "    print(sayı_1)\n",
    "elif sayı_2 > sayı_1:\n",
    "    print(sayı_2)\n",
    "else:\n",
    "    print(\"iki sayı eşit.\")"
   ]
  },
  {
   "cell_type": "markdown",
   "id": "022f562c",
   "metadata": {},
   "source": [
    "Örnek 66:  0 dan 30’a kadar olan sayılardan 2 ve 3 bölünenleri ekranda sıralayan programın python kodlarını yazınız."
   ]
  },
  {
   "cell_type": "code",
   "execution_count": 5,
   "id": "eed5c7f7",
   "metadata": {},
   "outputs": [
    {
     "name": "stdout",
     "output_type": "stream",
     "text": [
      "0\n",
      "6\n",
      "12\n",
      "18\n",
      "24\n",
      "30\n"
     ]
    }
   ],
   "source": [
    "sayac = 0\n",
    "\n",
    "while sayac <= 30:\n",
    "    if sayac % 2 == 0 and sayac % 3 == 0:\n",
    "        print(sayac)\n",
    "    sayac += 1"
   ]
  },
  {
   "cell_type": "markdown",
   "id": "7e0cf413",
   "metadata": {},
   "source": [
    "Örnek 67:  Klayeden girilen beş adet sayının toplamını bulan ve bulunan toplamın tek sayımı yoksa çift sayı mı olduğunu bulan python kodunu yazınız."
   ]
  },
  {
   "cell_type": "code",
   "execution_count": 13,
   "id": "8d1eac8c",
   "metadata": {},
   "outputs": [
    {
     "name": "stdout",
     "output_type": "stream",
     "text": [
      "Lütfen kaç adet sayı yazacağınızı belirtin:3\n",
      "Sayıyı giriniz: 1\n",
      "Sayıyı giriniz: 2\n",
      "Sayıyı giriniz: 3\n",
      "6 sayısı çifttir.\n"
     ]
    }
   ],
   "source": [
    "adet_sayısı = int(input(\"Lütfen kaç adet sayı yazacağınızı belirtin:\"))\n",
    "sayac = 0\n",
    "toplam = 0\n",
    "\n",
    "while sayac < adet_sayısı:\n",
    "    i = int(input(\"Sayıyı giriniz: \"))\n",
    "    sayac += 1\n",
    "    toplam += i\n",
    "if toplam % 2 == 0:\n",
    "    print(toplam, \"sayısı çifttir.\")\n",
    "elif toplam % 2 != 0:\n",
    "    print(toplam, \"sayısı tektir.\")"
   ]
  },
  {
   "cell_type": "markdown",
   "id": "1bea5bae",
   "metadata": {},
   "source": [
    "Örnek 71:  Klavyeden 0 rakamı girilene kadar girilen tüm sayıların kaç tane olduğunu ve bu sayıların toplamını bulan ve ekranda gösteren python kodunu yazınız.\n",
    "\n"
   ]
  },
  {
   "cell_type": "code",
   "execution_count": 38,
   "id": "f0ff8dc6",
   "metadata": {},
   "outputs": [
    {
     "name": "stdout",
     "output_type": "stream",
     "text": [
      "Bir Sayı Giriniz 0-çıkış:1\n",
      "Bir Sayı Giriniz 0-çıkış:4\n",
      "Bir Sayı Giriniz 0-çıkış:55\n",
      "Bir Sayı Giriniz 0-çıkış:6\n",
      "Bir Sayı Giriniz 0-çıkış:0\n",
      "Girilen  4  sayının toplamı: 65\n"
     ]
    }
   ],
   "source": [
    "\n",
    " \n",
    "toplam=0\n",
    "sayac=0\n",
    "sayi=int(input(\"Bir Sayı Giriniz 0-çıkış:\"))\n",
    "while sayi!=0:\n",
    "    sayi=int(input(\"Bir Sayı Giriniz 0-çıkış:\"))\n",
    "    toplam=toplam+sayi\n",
    "    sayac=sayac+1\n",
    "    \n",
    "print (\"Girilen \",sayac,\" sayının toplamı:\",toplam)"
   ]
  },
  {
   "cell_type": "markdown",
   "id": "aee76577",
   "metadata": {},
   "source": [
    "Örnek 72:  Klavyeden 0 rakamı girilene kadar girilen tüm sayıların kaç tane olduğunu ve bu sayıların ortalamasını bulan ve ekranda gösteren python kodunu yazınız."
   ]
  },
  {
   "cell_type": "code",
   "execution_count": 45,
   "id": "d5b6ed61",
   "metadata": {},
   "outputs": [
    {
     "name": "stdout",
     "output_type": "stream",
     "text": [
      "Lütfen sayıyı giriniz :2\n",
      "Lütfen sayıyı giriniz :5\n",
      "Lütfen sayıyı giriniz :3\n",
      "Lütfen sayıyı giriniz :6\n",
      "Lütfen sayıyı giriniz :77\n",
      "Lütfen sayıyı giriniz :0\n",
      "0 yazılana kadar yazılan sayı miktarı 5 ve bu sayıların ortalaması 18.2 olur\n"
     ]
    }
   ],
   "source": [
    "toplam = 0\n",
    "sayac = 0\n",
    "sayı = int(input(\"Lütfen sayıyı giriniz :\"))\n",
    "\n",
    "while sayı != 0:\n",
    "    sayı = int(input(\"Lütfen sayıyı giriniz :\"))\n",
    "    toplam += sayı\n",
    "    sayac += 1\n",
    "print(\"0 yazılana kadar yazılan sayı miktarı {} ve bu sayıların ortalaması {} olur\".format(sayac, toplam / sayac))"
   ]
  },
  {
   "cell_type": "markdown",
   "id": "497c44bc",
   "metadata": {},
   "source": [
    "Örnek 73:  Klavyeden girilen taban ve üs değerine göre o sayının üssünü hesaplayan ve sonucu ekranda gösteren python kodunu yazınız."
   ]
  },
  {
   "cell_type": "code",
   "execution_count": 47,
   "id": "59937783",
   "metadata": {},
   "outputs": [
    {
     "name": "stdout",
     "output_type": "stream",
     "text": [
      "Lütfen taban değeri giriniz : 3\n",
      "Lütfen üs değeri giriniz :2\n",
      "9\n"
     ]
    }
   ],
   "source": [
    "taban = int(input(\"Lütfen taban değeri giriniz : \"))\n",
    "üs_değer = int(input(\"Lütfen üs değeri giriniz :\"))\n",
    "\n",
    "işlem = taban ** üs_değer\n",
    "\n",
    "print(işlem)"
   ]
  },
  {
   "cell_type": "markdown",
   "id": "d20bcedd",
   "metadata": {},
   "source": [
    "Örnek 75:  Klavyeden girilen iki sayının EKOK ve EBOB’unu bulan ve ekranda gösteren python kodunu yazınız"
   ]
  },
  {
   "cell_type": "code",
   "execution_count": null,
   "id": "00e1c75f",
   "metadata": {},
   "outputs": [],
   "source": []
  }
 ],
 "metadata": {
  "kernelspec": {
   "display_name": "Python 3",
   "language": "python",
   "name": "python3"
  },
  "language_info": {
   "codemirror_mode": {
    "name": "ipython",
    "version": 3
   },
   "file_extension": ".py",
   "mimetype": "text/x-python",
   "name": "python",
   "nbconvert_exporter": "python",
   "pygments_lexer": "ipython3",
   "version": "3.8.8"
  }
 },
 "nbformat": 4,
 "nbformat_minor": 5
}
